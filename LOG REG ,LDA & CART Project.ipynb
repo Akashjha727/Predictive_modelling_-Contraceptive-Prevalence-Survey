{
 "cells": [
  {
   "cell_type": "code",
   "execution_count": 1,
   "id": "824614b6",
   "metadata": {},
   "outputs": [],
   "source": [
    "import pandas as pd\n",
    "import numpy as np\n",
    "import matplotlib.pyplot as plt\n",
    "import seaborn as sns\n",
    "import os\n",
    "import scipy.stats as stats\n",
    "sns.set(style='white')\n",
    "sns.set(style='whitegrid',color_codes=True)\n",
    "\n",
    "import sklearn\n",
    "from sklearn.model_selection import train_test_split\n",
    "from sklearn.discriminant_analysis import LinearDiscriminantAnalysis\n",
    "from sklearn.metrics import confusion_matrix  "
   ]
  },
  {
   "cell_type": "code",
   "execution_count": 2,
   "id": "27536728",
   "metadata": {},
   "outputs": [],
   "source": [
    "data1= pd.read_excel(r\"C:\\Users\\Akash Jha\\Downloads\\Contraceptive_method_dataset.xlsx\")"
   ]
  },
  {
   "cell_type": "code",
   "execution_count": 3,
   "id": "419be344",
   "metadata": {
    "scrolled": true
   },
   "outputs": [
    {
     "data": {
      "text/html": [
       "<div>\n",
       "<style scoped>\n",
       "    .dataframe tbody tr th:only-of-type {\n",
       "        vertical-align: middle;\n",
       "    }\n",
       "\n",
       "    .dataframe tbody tr th {\n",
       "        vertical-align: top;\n",
       "    }\n",
       "\n",
       "    .dataframe thead th {\n",
       "        text-align: right;\n",
       "    }\n",
       "</style>\n",
       "<table border=\"1\" class=\"dataframe\">\n",
       "  <thead>\n",
       "    <tr style=\"text-align: right;\">\n",
       "      <th></th>\n",
       "      <th>Wife_age</th>\n",
       "      <th>Wife_ education</th>\n",
       "      <th>Husband_education</th>\n",
       "      <th>No_of_children_born</th>\n",
       "      <th>Wife_religion</th>\n",
       "      <th>Wife_Working</th>\n",
       "      <th>Husband_Occupation</th>\n",
       "      <th>Standard_of_living_index</th>\n",
       "      <th>Media_exposure</th>\n",
       "      <th>Contraceptive_method_used</th>\n",
       "    </tr>\n",
       "  </thead>\n",
       "  <tbody>\n",
       "    <tr>\n",
       "      <th>0</th>\n",
       "      <td>24.0</td>\n",
       "      <td>Primary</td>\n",
       "      <td>Secondary</td>\n",
       "      <td>3.0</td>\n",
       "      <td>Scientology</td>\n",
       "      <td>No</td>\n",
       "      <td>2</td>\n",
       "      <td>High</td>\n",
       "      <td>Exposed</td>\n",
       "      <td>No</td>\n",
       "    </tr>\n",
       "    <tr>\n",
       "      <th>1</th>\n",
       "      <td>45.0</td>\n",
       "      <td>Uneducated</td>\n",
       "      <td>Secondary</td>\n",
       "      <td>10.0</td>\n",
       "      <td>Scientology</td>\n",
       "      <td>No</td>\n",
       "      <td>3</td>\n",
       "      <td>Very High</td>\n",
       "      <td>Exposed</td>\n",
       "      <td>No</td>\n",
       "    </tr>\n",
       "    <tr>\n",
       "      <th>2</th>\n",
       "      <td>43.0</td>\n",
       "      <td>Primary</td>\n",
       "      <td>Secondary</td>\n",
       "      <td>7.0</td>\n",
       "      <td>Scientology</td>\n",
       "      <td>No</td>\n",
       "      <td>3</td>\n",
       "      <td>Very High</td>\n",
       "      <td>Exposed</td>\n",
       "      <td>No</td>\n",
       "    </tr>\n",
       "    <tr>\n",
       "      <th>3</th>\n",
       "      <td>42.0</td>\n",
       "      <td>Secondary</td>\n",
       "      <td>Primary</td>\n",
       "      <td>9.0</td>\n",
       "      <td>Scientology</td>\n",
       "      <td>No</td>\n",
       "      <td>3</td>\n",
       "      <td>High</td>\n",
       "      <td>Exposed</td>\n",
       "      <td>No</td>\n",
       "    </tr>\n",
       "    <tr>\n",
       "      <th>4</th>\n",
       "      <td>36.0</td>\n",
       "      <td>Secondary</td>\n",
       "      <td>Secondary</td>\n",
       "      <td>8.0</td>\n",
       "      <td>Scientology</td>\n",
       "      <td>No</td>\n",
       "      <td>3</td>\n",
       "      <td>Low</td>\n",
       "      <td>Exposed</td>\n",
       "      <td>No</td>\n",
       "    </tr>\n",
       "  </tbody>\n",
       "</table>\n",
       "</div>"
      ],
      "text/plain": [
       "   Wife_age Wife_ education Husband_education  No_of_children_born  \\\n",
       "0      24.0         Primary         Secondary                  3.0   \n",
       "1      45.0      Uneducated         Secondary                 10.0   \n",
       "2      43.0         Primary         Secondary                  7.0   \n",
       "3      42.0       Secondary           Primary                  9.0   \n",
       "4      36.0       Secondary         Secondary                  8.0   \n",
       "\n",
       "  Wife_religion Wife_Working  Husband_Occupation Standard_of_living_index  \\\n",
       "0   Scientology           No                   2                     High   \n",
       "1   Scientology           No                   3                Very High   \n",
       "2   Scientology           No                   3                Very High   \n",
       "3   Scientology           No                   3                     High   \n",
       "4   Scientology           No                   3                      Low   \n",
       "\n",
       "  Media_exposure  Contraceptive_method_used  \n",
       "0         Exposed                        No  \n",
       "1         Exposed                        No  \n",
       "2         Exposed                        No  \n",
       "3         Exposed                        No  \n",
       "4         Exposed                        No  "
      ]
     },
     "execution_count": 3,
     "metadata": {},
     "output_type": "execute_result"
    }
   ],
   "source": [
    "data1.head()"
   ]
  },
  {
   "cell_type": "code",
   "execution_count": 4,
   "id": "87dae710",
   "metadata": {},
   "outputs": [
    {
     "name": "stdout",
     "output_type": "stream",
     "text": [
      "<class 'pandas.core.frame.DataFrame'>\n",
      "RangeIndex: 1473 entries, 0 to 1472\n",
      "Data columns (total 10 columns):\n",
      " #   Column                     Non-Null Count  Dtype  \n",
      "---  ------                     --------------  -----  \n",
      " 0   Wife_age                   1402 non-null   float64\n",
      " 1   Wife_ education            1473 non-null   object \n",
      " 2   Husband_education          1473 non-null   object \n",
      " 3   No_of_children_born        1452 non-null   float64\n",
      " 4   Wife_religion              1473 non-null   object \n",
      " 5   Wife_Working               1473 non-null   object \n",
      " 6   Husband_Occupation         1473 non-null   int64  \n",
      " 7   Standard_of_living_index   1473 non-null   object \n",
      " 8   Media_exposure             1473 non-null   object \n",
      " 9   Contraceptive_method_used  1473 non-null   object \n",
      "dtypes: float64(2), int64(1), object(7)\n",
      "memory usage: 115.2+ KB\n"
     ]
    }
   ],
   "source": [
    "data1.info()"
   ]
  },
  {
   "cell_type": "code",
   "execution_count": 5,
   "id": "731bff43",
   "metadata": {},
   "outputs": [
    {
     "data": {
      "text/plain": [
       "Wife_age                     71\n",
       "Wife_ education               0\n",
       "Husband_education             0\n",
       "No_of_children_born          21\n",
       "Wife_religion                 0\n",
       "Wife_Working                  0\n",
       "Husband_Occupation            0\n",
       "Standard_of_living_index      0\n",
       "Media_exposure                0\n",
       "Contraceptive_method_used     0\n",
       "dtype: int64"
      ]
     },
     "execution_count": 5,
     "metadata": {},
     "output_type": "execute_result"
    }
   ],
   "source": [
    "data1.isna().sum()"
   ]
  },
  {
   "cell_type": "code",
   "execution_count": 6,
   "id": "614f3df7",
   "metadata": {},
   "outputs": [
    {
     "data": {
      "text/plain": [
       "(1473, 10)"
      ]
     },
     "execution_count": 6,
     "metadata": {},
     "output_type": "execute_result"
    }
   ],
   "source": [
    "data1.shape"
   ]
  },
  {
   "cell_type": "code",
   "execution_count": 7,
   "id": "9df840c8",
   "metadata": {},
   "outputs": [
    {
     "data": {
      "text/plain": [
       "Index(['Wife_age', 'Wife_ education', 'Husband_education',\n",
       "       'No_of_children_born', 'Wife_religion', 'Wife_Working',\n",
       "       'Husband_Occupation', 'Standard_of_living_index', 'Media_exposure ',\n",
       "       'Contraceptive_method_used'],\n",
       "      dtype='object')"
      ]
     },
     "execution_count": 7,
     "metadata": {},
     "output_type": "execute_result"
    }
   ],
   "source": [
    "data1.columns"
   ]
  },
  {
   "cell_type": "code",
   "execution_count": 8,
   "id": "778c7be3",
   "metadata": {},
   "outputs": [],
   "source": [
    "#Clean Data\n",
    "data1['Wife_age'] = data1['Wife_age'].fillna(data1['Wife_age'].median())\n",
    "data1['No_of_children_born']=data1['No_of_children_born'].fillna(data1['No_of_children_born'].median())"
   ]
  },
  {
   "cell_type": "code",
   "execution_count": 9,
   "id": "323bf06d",
   "metadata": {},
   "outputs": [],
   "source": [
    "#Change type of husband occupation as its object encoded\n",
    "data1['Husband_Occupation']=data1['Husband_Occupation'].astype('object')\n",
    "#Remove space from Column Names\n",
    "data1.columns = data1.columns.str.replace(' ', '')"
   ]
  },
  {
   "cell_type": "code",
   "execution_count": 10,
   "id": "12915395",
   "metadata": {},
   "outputs": [
    {
     "data": {
      "text/plain": [
       "array(['Primary', 'Uneducated', 'Secondary', 'Tertiary'], dtype=object)"
      ]
     },
     "execution_count": 10,
     "metadata": {},
     "output_type": "execute_result"
    }
   ],
   "source": [
    "data1['Wife_education'].unique()"
   ]
  },
  {
   "cell_type": "code",
   "execution_count": 11,
   "id": "4f517a17",
   "metadata": {},
   "outputs": [
    {
     "data": {
      "text/plain": [
       "array(['Secondary', 'Primary', 'Tertiary', 'Uneducated'], dtype=object)"
      ]
     },
     "execution_count": 11,
     "metadata": {},
     "output_type": "execute_result"
    }
   ],
   "source": [
    "data1['Husband_education'].unique()"
   ]
  },
  {
   "cell_type": "code",
   "execution_count": 12,
   "id": "ca9e0d13",
   "metadata": {},
   "outputs": [
    {
     "data": {
      "text/plain": [
       "array(['Scientology', 'Non-Scientology'], dtype=object)"
      ]
     },
     "execution_count": 12,
     "metadata": {},
     "output_type": "execute_result"
    }
   ],
   "source": [
    "data1['Wife_religion'].unique()"
   ]
  },
  {
   "cell_type": "code",
   "execution_count": 13,
   "id": "5b98ad2d",
   "metadata": {},
   "outputs": [
    {
     "data": {
      "text/plain": [
       "array(['No', 'Yes'], dtype=object)"
      ]
     },
     "execution_count": 13,
     "metadata": {},
     "output_type": "execute_result"
    }
   ],
   "source": [
    "data1['Wife_Working'].unique()"
   ]
  },
  {
   "cell_type": "code",
   "execution_count": 14,
   "id": "005c6016",
   "metadata": {},
   "outputs": [
    {
     "data": {
      "text/plain": [
       "array(['High', 'Very High', 'Low', 'Very Low'], dtype=object)"
      ]
     },
     "execution_count": 14,
     "metadata": {},
     "output_type": "execute_result"
    }
   ],
   "source": [
    "data1['Standard_of_living_index'].unique()"
   ]
  },
  {
   "cell_type": "code",
   "execution_count": 15,
   "id": "fc7907b0",
   "metadata": {},
   "outputs": [
    {
     "data": {
      "text/plain": [
       "array(['Exposed', 'Not-Exposed'], dtype=object)"
      ]
     },
     "execution_count": 15,
     "metadata": {},
     "output_type": "execute_result"
    }
   ],
   "source": [
    "data1['Media_exposure'].unique()"
   ]
  },
  {
   "cell_type": "code",
   "execution_count": 16,
   "id": "627f1e3b",
   "metadata": {},
   "outputs": [
    {
     "data": {
      "text/plain": [
       "array(['No', 'Yes'], dtype=object)"
      ]
     },
     "execution_count": 16,
     "metadata": {},
     "output_type": "execute_result"
    }
   ],
   "source": [
    "data1['Contraceptive_method_used'].unique()"
   ]
  },
  {
   "cell_type": "code",
   "execution_count": 17,
   "id": "09d6143a",
   "metadata": {},
   "outputs": [],
   "source": [
    "data1['Standard_of_living_index']= np.where(data1['Standard_of_living_index']== 'Very High','VeryHigh' ,data1['Standard_of_living_index'])"
   ]
  },
  {
   "cell_type": "code",
   "execution_count": 18,
   "id": "a147f853",
   "metadata": {},
   "outputs": [],
   "source": [
    "data1['Standard_of_living_index']= np.where(data1['Standard_of_living_index']== 'Very Low','VeryLow' ,data1['Standard_of_living_index'])"
   ]
  },
  {
   "cell_type": "code",
   "execution_count": 19,
   "id": "5bb761b8",
   "metadata": {},
   "outputs": [],
   "source": [
    "# Univariate Analysis for categorical variables"
   ]
  },
  {
   "cell_type": "code",
   "execution_count": 20,
   "id": "71d04b22",
   "metadata": {},
   "outputs": [],
   "source": [
    "import warnings\n",
    "warnings.filterwarnings('ignore')"
   ]
  },
  {
   "cell_type": "code",
   "execution_count": 21,
   "id": "dbfda285",
   "metadata": {},
   "outputs": [
    {
     "data": {
      "image/png": "[encoded data removed]",
      "text/plain": [
       "<Figure size 1800x504 with 8 Axes>"
      ]
     },
     "metadata": {},
     "output_type": "display_data"
    }
   ],
   "source": [
    "figdims=(25,7)\n",
    "fig,axs=plt.subplots(nrows=2,ncols=4,figsize=figdims)\n",
    "sns.countplot(data1.Wife_education,ax=axs[0][0])\n",
    "sns.countplot(data1.Wife_religion,ax=axs[0][1])\n",
    "sns.countplot(data1.Wife_Working,ax=axs[0][2])\n",
    "sns.countplot(data1.Husband_education,ax=axs[0][3])\n",
    "sns.countplot(data1.Husband_Occupation,ax=axs[1][0])\n",
    "sns.countplot(data1.Standard_of_living_index,ax=axs[1][1])\n",
    "sns.countplot(data1.Media_exposure,ax=axs[1][2])\n",
    "sns.countplot(data1.Contraceptive_method_used,ax=axs[1][3])\n",
    "plt.show()"
   ]
  },
  {
   "cell_type": "code",
   "execution_count": 22,
   "id": "d969654c",
   "metadata": {},
   "outputs": [
    {
     "data": {
      "text/plain": [
       "<AxesSubplot:xlabel='Wife_age', ylabel='count'>"
      ]
     },
     "execution_count": 22,
     "metadata": {},
     "output_type": "execute_result"
    },
    {
     "data": {
      "image/png": "[encoded data removed]",
      "text/plain": [
       "<Figure size 1080x504 with 1 Axes>"
      ]
     },
     "metadata": {},
     "output_type": "display_data"
    }
   ],
   "source": [
    "plt.figure(figsize=(15,7))\n",
    "sns.countplot(data1.Wife_age)"
   ]
  },
  {
   "cell_type": "code",
   "execution_count": 25,
   "id": "7b5f5ea7",
   "metadata": {},
   "outputs": [
    {
     "data": {
      "image/png": "[encoded data removed]",
      "text/plain": [
       "<Figure size 432x288 with 1 Axes>"
      ]
     },
     "metadata": {},
     "output_type": "display_data"
    }
   ],
   "source": [
    "sns.countplot(df1.Contraceptive_method_used);"
   ]
  },
  {
   "cell_type": "code",
   "execution_count": 26,
   "id": "63c2a796",
   "metadata": {},
   "outputs": [
    {
     "data": {
      "text/plain": [
       "Yes    0.57298\n",
       "No     0.42702\n",
       "Name: Contraceptive_method_used, dtype: float64"
      ]
     },
     "execution_count": 26,
     "metadata": {},
     "output_type": "execute_result"
    }
   ],
   "source": [
    "df1['Contraceptive_method_used'].value_counts(1)"
   ]
  },
  {
   "cell_type": "code",
   "execution_count": 27,
   "id": "b135aca1",
   "metadata": {},
   "outputs": [
    {
     "data": {
      "image/png": "[encoded data removed]",
      "text/plain": [
       "<Figure size 360x360 with 1 Axes>"
      ]
     },
     "metadata": {},
     "output_type": "display_data"
    }
   ],
   "source": [
    "sns.displot(data1['No_of_children_born'],kde=True);"
   ]
  },
  {
   "cell_type": "code",
   "execution_count": 28,
   "id": "b3640f4b",
   "metadata": {},
   "outputs": [
    {
     "data": {
      "image/png": "[encoded data removed]",
      "text/plain": [
       "<Figure size 432x288 with 1 Axes>"
      ]
     },
     "metadata": {},
     "output_type": "display_data"
    }
   ],
   "source": [
    "sns.boxplot(x=data1['No_of_children_born']);"
   ]
  },
  {
   "cell_type": "code",
   "execution_count": 29,
   "id": "dd700cca",
   "metadata": {},
   "outputs": [
    {
     "data": {
      "image/png": "[encoded data removed]",
      "text/plain": [
       "<Figure size 432x288 with 1 Axes>"
      ]
     },
     "metadata": {},
     "output_type": "display_data"
    }
   ],
   "source": [
    "sns.boxplot(x=data1['Wife_age']);"
   ]
  },
  {
   "cell_type": "code",
   "execution_count": 30,
   "id": "481cc972",
   "metadata": {},
   "outputs": [],
   "source": [
    "data1.drop_duplicates(keep=False,inplace=True)"
   ]
  },
  {
   "cell_type": "code",
   "execution_count": 31,
   "id": "6cb67fb6",
   "metadata": {},
   "outputs": [
    {
     "data": {
      "text/plain": [
       "(1313, 10)"
      ]
     },
     "execution_count": 31,
     "metadata": {},
     "output_type": "execute_result"
    }
   ],
   "source": [
    "data1.shape"
   ]
  },
  {
   "cell_type": "code",
   "execution_count": 32,
   "id": "478f10d9",
   "metadata": {},
   "outputs": [
    {
     "data": {
      "text/plain": [
       "<AxesSubplot:>"
      ]
     },
     "execution_count": 32,
     "metadata": {},
     "output_type": "execute_result"
    },
    {
     "data": {
      "image/png": "[encoded data removed]",
      "text/plain": [
       "<Figure size 432x288 with 2 Axes>"
      ]
     },
     "metadata": {},
     "output_type": "display_data"
    }
   ],
   "source": [
    "sns.heatmap(df1.corr(),annot=True)"
   ]
  },
  {
   "cell_type": "code",
   "execution_count": 33,
   "id": "b05a3e6d",
   "metadata": {},
   "outputs": [
    {
     "data": {
      "text/plain": [
       "<AxesSubplot:xlabel='Contraceptive_method_used', ylabel='No_of_children_born'>"
      ]
     },
     "execution_count": 33,
     "metadata": {},
     "output_type": "execute_result"
    },
    {
     "data": {
      "image/png": "[encoded data removed]",
      "text/plain": [
       "<Figure size 432x288 with 1 Axes>"
      ]
     },
     "metadata": {},
     "output_type": "display_data"
    }
   ],
   "source": [
    "sns.stripplot(data1['Contraceptive_method_used'],data1['No_of_children_born'])"
   ]
  },
  {
   "cell_type": "code",
   "execution_count": 34,
   "id": "55ad16e1",
   "metadata": {},
   "outputs": [
    {
     "data": {
      "text/html": [
       "<div>\n",
       "<style scoped>\n",
       "    .dataframe tbody tr th:only-of-type {\n",
       "        vertical-align: middle;\n",
       "    }\n",
       "\n",
       "    .dataframe tbody tr th {\n",
       "        vertical-align: top;\n",
       "    }\n",
       "\n",
       "    .dataframe thead th {\n",
       "        text-align: right;\n",
       "    }\n",
       "</style>\n",
       "<table border=\"1\" class=\"dataframe\">\n",
       "  <thead>\n",
       "    <tr style=\"text-align: right;\">\n",
       "      <th></th>\n",
       "      <th>Wife_age</th>\n",
       "      <th>Wife_education</th>\n",
       "      <th>Husband_education</th>\n",
       "      <th>No_of_children_born</th>\n",
       "      <th>Wife_religion</th>\n",
       "      <th>Wife_Working</th>\n",
       "      <th>Husband_Occupation</th>\n",
       "      <th>Standard_of_living_index</th>\n",
       "      <th>Media_exposure</th>\n",
       "      <th>Contraceptive_method_used</th>\n",
       "    </tr>\n",
       "  </thead>\n",
       "  <tbody>\n",
       "    <tr>\n",
       "      <th>0</th>\n",
       "      <td>24.0</td>\n",
       "      <td>Primary</td>\n",
       "      <td>Secondary</td>\n",
       "      <td>3.0</td>\n",
       "      <td>Scientology</td>\n",
       "      <td>No</td>\n",
       "      <td>2</td>\n",
       "      <td>High</td>\n",
       "      <td>Exposed</td>\n",
       "      <td>No</td>\n",
       "    </tr>\n",
       "    <tr>\n",
       "      <th>1</th>\n",
       "      <td>45.0</td>\n",
       "      <td>Uneducated</td>\n",
       "      <td>Secondary</td>\n",
       "      <td>10.0</td>\n",
       "      <td>Scientology</td>\n",
       "      <td>No</td>\n",
       "      <td>3</td>\n",
       "      <td>VeryHigh</td>\n",
       "      <td>Exposed</td>\n",
       "      <td>No</td>\n",
       "    </tr>\n",
       "    <tr>\n",
       "      <th>2</th>\n",
       "      <td>43.0</td>\n",
       "      <td>Primary</td>\n",
       "      <td>Secondary</td>\n",
       "      <td>7.0</td>\n",
       "      <td>Scientology</td>\n",
       "      <td>No</td>\n",
       "      <td>3</td>\n",
       "      <td>VeryHigh</td>\n",
       "      <td>Exposed</td>\n",
       "      <td>No</td>\n",
       "    </tr>\n",
       "    <tr>\n",
       "      <th>3</th>\n",
       "      <td>42.0</td>\n",
       "      <td>Secondary</td>\n",
       "      <td>Primary</td>\n",
       "      <td>9.0</td>\n",
       "      <td>Scientology</td>\n",
       "      <td>No</td>\n",
       "      <td>3</td>\n",
       "      <td>High</td>\n",
       "      <td>Exposed</td>\n",
       "      <td>No</td>\n",
       "    </tr>\n",
       "    <tr>\n",
       "      <th>4</th>\n",
       "      <td>36.0</td>\n",
       "      <td>Secondary</td>\n",
       "      <td>Secondary</td>\n",
       "      <td>8.0</td>\n",
       "      <td>Scientology</td>\n",
       "      <td>No</td>\n",
       "      <td>3</td>\n",
       "      <td>Low</td>\n",
       "      <td>Exposed</td>\n",
       "      <td>No</td>\n",
       "    </tr>\n",
       "  </tbody>\n",
       "</table>\n",
       "</div>"
      ],
      "text/plain": [
       "   Wife_age Wife_education Husband_education  No_of_children_born  \\\n",
       "0      24.0        Primary         Secondary                  3.0   \n",
       "1      45.0     Uneducated         Secondary                 10.0   \n",
       "2      43.0        Primary         Secondary                  7.0   \n",
       "3      42.0      Secondary           Primary                  9.0   \n",
       "4      36.0      Secondary         Secondary                  8.0   \n",
       "\n",
       "  Wife_religion Wife_Working Husband_Occupation Standard_of_living_index  \\\n",
       "0   Scientology           No                  2                     High   \n",
       "1   Scientology           No                  3                 VeryHigh   \n",
       "2   Scientology           No                  3                 VeryHigh   \n",
       "3   Scientology           No                  3                     High   \n",
       "4   Scientology           No                  3                      Low   \n",
       "\n",
       "  Media_exposure Contraceptive_method_used  \n",
       "0        Exposed                        No  \n",
       "1        Exposed                        No  \n",
       "2        Exposed                        No  \n",
       "3        Exposed                        No  \n",
       "4        Exposed                        No  "
      ]
     },
     "execution_count": 34,
     "metadata": {},
     "output_type": "execute_result"
    }
   ],
   "source": [
    "data1.head()"
   ]
  },
  {
   "cell_type": "code",
   "execution_count": 35,
   "id": "609b5ff2",
   "metadata": {},
   "outputs": [],
   "source": [
    "# Lets Encode the variables"
   ]
  },
  {
   "cell_type": "code",
   "execution_count": 36,
   "id": "2eefccad",
   "metadata": {},
   "outputs": [],
   "source": [
    "df1=data1.copy()"
   ]
  },
  {
   "cell_type": "code",
   "execution_count": 37,
   "id": "6fb15b1b",
   "metadata": {},
   "outputs": [
    {
     "data": {
      "text/html": [
       "<div>\n",
       "<style scoped>\n",
       "    .dataframe tbody tr th:only-of-type {\n",
       "        vertical-align: middle;\n",
       "    }\n",
       "\n",
       "    .dataframe tbody tr th {\n",
       "        vertical-align: top;\n",
       "    }\n",
       "\n",
       "    .dataframe thead th {\n",
       "        text-align: right;\n",
       "    }\n",
       "</style>\n",
       "<table border=\"1\" class=\"dataframe\">\n",
       "  <thead>\n",
       "    <tr style=\"text-align: right;\">\n",
       "      <th></th>\n",
       "      <th>Wife_age</th>\n",
       "      <th>Wife_education</th>\n",
       "      <th>Husband_education</th>\n",
       "      <th>No_of_children_born</th>\n",
       "      <th>Wife_religion</th>\n",
       "      <th>Wife_Working</th>\n",
       "      <th>Husband_Occupation</th>\n",
       "      <th>Standard_of_living_index</th>\n",
       "      <th>Media_exposure</th>\n",
       "      <th>Contraceptive_method_used</th>\n",
       "    </tr>\n",
       "  </thead>\n",
       "  <tbody>\n",
       "    <tr>\n",
       "      <th>0</th>\n",
       "      <td>24.0</td>\n",
       "      <td>Primary</td>\n",
       "      <td>Secondary</td>\n",
       "      <td>3.0</td>\n",
       "      <td>Scientology</td>\n",
       "      <td>No</td>\n",
       "      <td>2</td>\n",
       "      <td>High</td>\n",
       "      <td>Exposed</td>\n",
       "      <td>No</td>\n",
       "    </tr>\n",
       "    <tr>\n",
       "      <th>1</th>\n",
       "      <td>45.0</td>\n",
       "      <td>Uneducated</td>\n",
       "      <td>Secondary</td>\n",
       "      <td>10.0</td>\n",
       "      <td>Scientology</td>\n",
       "      <td>No</td>\n",
       "      <td>3</td>\n",
       "      <td>VeryHigh</td>\n",
       "      <td>Exposed</td>\n",
       "      <td>No</td>\n",
       "    </tr>\n",
       "    <tr>\n",
       "      <th>2</th>\n",
       "      <td>43.0</td>\n",
       "      <td>Primary</td>\n",
       "      <td>Secondary</td>\n",
       "      <td>7.0</td>\n",
       "      <td>Scientology</td>\n",
       "      <td>No</td>\n",
       "      <td>3</td>\n",
       "      <td>VeryHigh</td>\n",
       "      <td>Exposed</td>\n",
       "      <td>No</td>\n",
       "    </tr>\n",
       "    <tr>\n",
       "      <th>3</th>\n",
       "      <td>42.0</td>\n",
       "      <td>Secondary</td>\n",
       "      <td>Primary</td>\n",
       "      <td>9.0</td>\n",
       "      <td>Scientology</td>\n",
       "      <td>No</td>\n",
       "      <td>3</td>\n",
       "      <td>High</td>\n",
       "      <td>Exposed</td>\n",
       "      <td>No</td>\n",
       "    </tr>\n",
       "    <tr>\n",
       "      <th>4</th>\n",
       "      <td>36.0</td>\n",
       "      <td>Secondary</td>\n",
       "      <td>Secondary</td>\n",
       "      <td>8.0</td>\n",
       "      <td>Scientology</td>\n",
       "      <td>No</td>\n",
       "      <td>3</td>\n",
       "      <td>Low</td>\n",
       "      <td>Exposed</td>\n",
       "      <td>No</td>\n",
       "    </tr>\n",
       "  </tbody>\n",
       "</table>\n",
       "</div>"
      ],
      "text/plain": [
       "   Wife_age Wife_education Husband_education  No_of_children_born  \\\n",
       "0      24.0        Primary         Secondary                  3.0   \n",
       "1      45.0     Uneducated         Secondary                 10.0   \n",
       "2      43.0        Primary         Secondary                  7.0   \n",
       "3      42.0      Secondary           Primary                  9.0   \n",
       "4      36.0      Secondary         Secondary                  8.0   \n",
       "\n",
       "  Wife_religion Wife_Working Husband_Occupation Standard_of_living_index  \\\n",
       "0   Scientology           No                  2                     High   \n",
       "1   Scientology           No                  3                 VeryHigh   \n",
       "2   Scientology           No                  3                 VeryHigh   \n",
       "3   Scientology           No                  3                     High   \n",
       "4   Scientology           No                  3                      Low   \n",
       "\n",
       "  Media_exposure Contraceptive_method_used  \n",
       "0        Exposed                        No  \n",
       "1        Exposed                        No  \n",
       "2        Exposed                        No  \n",
       "3        Exposed                        No  \n",
       "4        Exposed                        No  "
      ]
     },
     "execution_count": 37,
     "metadata": {},
     "output_type": "execute_result"
    }
   ],
   "source": [
    "df1.head()"
   ]
  },
  {
   "cell_type": "code",
   "execution_count": 38,
   "id": "5467623d",
   "metadata": {},
   "outputs": [],
   "source": [
    "# Lets Encode Data So we can Do Bivariate Analysis and Apply Different supervised methods"
   ]
  },
  {
   "cell_type": "code",
   "execution_count": 39,
   "id": "b9f455a9",
   "metadata": {},
   "outputs": [],
   "source": [
    "df1['Wife_education']=np.where(df1['Wife_education']=='Uneducated',1,df1['Wife_education'])\n",
    "df1['Wife_education']=np.where(df1['Wife_education']=='Primary',2,df1['Wife_education'])\n",
    "df1['Wife_education']=np.where(df1['Wife_education']=='Secondary',3,df1['Wife_education'])\n",
    "df1['Wife_education']=np.where(df1['Wife_education']=='Tertiary',4,df1['Wife_education'])"
   ]
  },
  {
   "cell_type": "code",
   "execution_count": 40,
   "id": "70cc1cc0",
   "metadata": {},
   "outputs": [],
   "source": [
    "df1['Husband_education']=np.where(df1['Husband_education']=='Uneducated',1,df1['Husband_education'])\n",
    "df1['Husband_education']=np.where(df1['Husband_education']=='Primary',2,df1['Husband_education'])\n",
    "df1['Husband_education']=np.where(df1['Husband_education']=='Secondary',3,df1['Husband_education'])\n",
    "df1['Husband_education']=np.where(df1['Husband_education']=='Tertiary',4,df1['Husband_education'])"
   ]
  },
  {
   "cell_type": "code",
   "execution_count": 41,
   "id": "57415b40",
   "metadata": {},
   "outputs": [],
   "source": [
    "df1['Wife_religion']=np.where(df1['Wife_religion']=='Scientology',0,df1['Wife_religion'])\n",
    "df1['Wife_religion']=np.where(df1['Wife_religion']=='Non-Scientology',1,df1['Wife_religion'])"
   ]
  },
  {
   "cell_type": "code",
   "execution_count": 42,
   "id": "138891c3",
   "metadata": {},
   "outputs": [],
   "source": [
    "df1['Wife_Working']=np.where(df1['Wife_Working']=='Yes',0,df1['Wife_Working'])\n",
    "df1['Wife_Working']=np.where(df1['Wife_Working']=='No',1,df1['Wife_Working'])"
   ]
  },
  {
   "cell_type": "code",
   "execution_count": 43,
   "id": "a3186425",
   "metadata": {},
   "outputs": [],
   "source": [
    "df1['Standard_of_living_index']=np.where(df1['Standard_of_living_index']=='VeryLow',1,df1['Standard_of_living_index'])\n",
    "df1['Standard_of_living_index']=np.where(df1['Standard_of_living_index']=='Low',2,df1['Standard_of_living_index'])\n",
    "df1['Standard_of_living_index']=np.where(df1['Standard_of_living_index']=='VeryHigh',3,df1['Standard_of_living_index'])\n",
    "df1['Standard_of_living_index']=np.where(df1['Standard_of_living_index']=='High',4,df1['Standard_of_living_index'])"
   ]
  },
  {
   "cell_type": "code",
   "execution_count": 44,
   "id": "8d035885",
   "metadata": {},
   "outputs": [],
   "source": [
    "df1['Media_exposure']=np.where(df1['Media_exposure']=='Exposed',0,df1['Media_exposure'])\n",
    "df1['Media_exposure']=np.where(df1['Media_exposure']=='Not-Exposed',1,df1['Media_exposure'])"
   ]
  },
  {
   "cell_type": "code",
   "execution_count": 45,
   "id": "d168f311",
   "metadata": {},
   "outputs": [],
   "source": [
    "df1['Media_exposure']=np.where(df1['Media_exposure']=='Exposed',0,df1['Media_exposure'])\n",
    "df1['Media_exposure']=np.where(df1['Media_exposure']=='Not-Exposed',1,df1['Media_exposure'])"
   ]
  },
  {
   "cell_type": "code",
   "execution_count": 46,
   "id": "7908849e",
   "metadata": {},
   "outputs": [],
   "source": [
    "df1['Contraceptive_method_used']=np.where(df1['Contraceptive_method_used']=='Yes',0,df1['Contraceptive_method_used'])\n",
    "df1['Contraceptive_method_used']=np.where(df1['Contraceptive_method_used']=='No',1,df1['Contraceptive_method_used'])"
   ]
  },
  {
   "cell_type": "code",
   "execution_count": 47,
   "id": "0555490a",
   "metadata": {},
   "outputs": [
    {
     "data": {
      "text/html": [
       "<div>\n",
       "<style scoped>\n",
       "    .dataframe tbody tr th:only-of-type {\n",
       "        vertical-align: middle;\n",
       "    }\n",
       "\n",
       "    .dataframe tbody tr th {\n",
       "        vertical-align: top;\n",
       "    }\n",
       "\n",
       "    .dataframe thead th {\n",
       "        text-align: right;\n",
       "    }\n",
       "</style>\n",
       "<table border=\"1\" class=\"dataframe\">\n",
       "  <thead>\n",
       "    <tr style=\"text-align: right;\">\n",
       "      <th></th>\n",
       "      <th>Wife_age</th>\n",
       "      <th>No_of_children_born</th>\n",
       "    </tr>\n",
       "  </thead>\n",
       "  <tbody>\n",
       "    <tr>\n",
       "      <th>count</th>\n",
       "      <td>1313.000000</td>\n",
       "      <td>1313.000000</td>\n",
       "    </tr>\n",
       "    <tr>\n",
       "      <th>mean</th>\n",
       "      <td>32.498096</td>\n",
       "      <td>3.323686</td>\n",
       "    </tr>\n",
       "    <tr>\n",
       "      <th>std</th>\n",
       "      <td>8.130802</td>\n",
       "      <td>2.420289</td>\n",
       "    </tr>\n",
       "    <tr>\n",
       "      <th>min</th>\n",
       "      <td>16.000000</td>\n",
       "      <td>0.000000</td>\n",
       "    </tr>\n",
       "    <tr>\n",
       "      <th>25%</th>\n",
       "      <td>26.000000</td>\n",
       "      <td>1.000000</td>\n",
       "    </tr>\n",
       "    <tr>\n",
       "      <th>50%</th>\n",
       "      <td>32.000000</td>\n",
       "      <td>3.000000</td>\n",
       "    </tr>\n",
       "    <tr>\n",
       "      <th>75%</th>\n",
       "      <td>38.000000</td>\n",
       "      <td>5.000000</td>\n",
       "    </tr>\n",
       "    <tr>\n",
       "      <th>max</th>\n",
       "      <td>49.000000</td>\n",
       "      <td>16.000000</td>\n",
       "    </tr>\n",
       "  </tbody>\n",
       "</table>\n",
       "</div>"
      ],
      "text/plain": [
       "          Wife_age  No_of_children_born\n",
       "count  1313.000000          1313.000000\n",
       "mean     32.498096             3.323686\n",
       "std       8.130802             2.420289\n",
       "min      16.000000             0.000000\n",
       "25%      26.000000             1.000000\n",
       "50%      32.000000             3.000000\n",
       "75%      38.000000             5.000000\n",
       "max      49.000000            16.000000"
      ]
     },
     "execution_count": 47,
     "metadata": {},
     "output_type": "execute_result"
    }
   ],
   "source": [
    "# After Encoding We can Do Bivariate Analysis\n",
    "df1.describe()"
   ]
  },
  {
   "cell_type": "code",
   "execution_count": 48,
   "id": "29353d2a",
   "metadata": {},
   "outputs": [
    {
     "data": {
      "image/png": "[encoded data removed]",
      "text/plain": [
       "<Figure size 432x288 with 1 Axes>"
      ]
     },
     "metadata": {},
     "output_type": "display_data"
    }
   ],
   "source": [
    "pd.crosstab(df1.Wife_Working,df1.Contraceptive_method_used).plot(kind='bar')\n",
    "plt.show()"
   ]
  },
  {
   "cell_type": "code",
   "execution_count": 49,
   "id": "3b06e5c6",
   "metadata": {},
   "outputs": [
    {
     "data": {
      "image/png": "[encoded data removed]",
      "text/plain": [
       "<Figure size 432x288 with 1 Axes>"
      ]
     },
     "metadata": {},
     "output_type": "display_data"
    }
   ],
   "source": [
    "pd.crosstab(df1.Wife_education,df1.Contraceptive_method_used).plot(kind='bar')\n",
    "plt.show()"
   ]
  },
  {
   "cell_type": "code",
   "execution_count": 50,
   "id": "4b372d54",
   "metadata": {},
   "outputs": [
    {
     "data": {
      "image/png": "[encoded data removed]",
      "text/plain": [
       "<Figure size 432x288 with 1 Axes>"
      ]
     },
     "metadata": {},
     "output_type": "display_data"
    }
   ],
   "source": [
    "pd.crosstab(df1.Media_exposure,df1.Contraceptive_method_used).plot(kind='bar')\n",
    "plt.show()"
   ]
  },
  {
   "cell_type": "code",
   "execution_count": 51,
   "id": "89730654",
   "metadata": {},
   "outputs": [
    {
     "data": {
      "image/png": "[encoded data removed]",
      "text/plain": [
       "<Figure size 432x288 with 1 Axes>"
      ]
     },
     "metadata": {},
     "output_type": "display_data"
    }
   ],
   "source": [
    "pd.crosstab(df1.Wife_age,df1.Contraceptive_method_used).plot(kind='bar')\n",
    "plt.show()"
   ]
  },
  {
   "cell_type": "code",
   "execution_count": 52,
   "id": "55193c70",
   "metadata": {},
   "outputs": [
    {
     "data": {
      "text/plain": [
       "<AxesSubplot:xlabel='No_of_children_born'>"
      ]
     },
     "execution_count": 52,
     "metadata": {},
     "output_type": "execute_result"
    },
    {
     "data": {
      "image/png": "[encoded data removed]",
      "text/plain": [
       "<Figure size 432x288 with 1 Axes>"
      ]
     },
     "metadata": {},
     "output_type": "display_data"
    }
   ],
   "source": [
    "sns.boxplot(x=df1.No_of_children_born)"
   ]
  },
  {
   "cell_type": "code",
   "execution_count": 53,
   "id": "74d55006",
   "metadata": {},
   "outputs": [],
   "source": [
    "# Treating One Column Outliers,No_of_children_born \n",
    "col =['No_of_children_born']\n",
    "Q1=df1[col].quantile(0.25)\n",
    "Q3=df1[col].quantile(0.75)\n",
    "IQR = Q3-Q1\n",
    "\n",
    "condition=~((df1[col]< (Q1 - 1.5*IQR)) | (df1[col] > (Q3 + 1.5 * IQR))).any(axis=1)\n",
    "\n",
    "fill_df1=df1[condition]"
   ]
  },
  {
   "cell_type": "code",
   "execution_count": 54,
   "id": "44e25639",
   "metadata": {},
   "outputs": [],
   "source": [
    "tree_df1=df1[condition]"
   ]
  },
  {
   "cell_type": "code",
   "execution_count": 55,
   "id": "2336308f",
   "metadata": {},
   "outputs": [
    {
     "data": {
      "text/html": [
       "<div>\n",
       "<style scoped>\n",
       "    .dataframe tbody tr th:only-of-type {\n",
       "        vertical-align: middle;\n",
       "    }\n",
       "\n",
       "    .dataframe tbody tr th {\n",
       "        vertical-align: top;\n",
       "    }\n",
       "\n",
       "    .dataframe thead th {\n",
       "        text-align: right;\n",
       "    }\n",
       "</style>\n",
       "<table border=\"1\" class=\"dataframe\">\n",
       "  <thead>\n",
       "    <tr style=\"text-align: right;\">\n",
       "      <th></th>\n",
       "      <th>index</th>\n",
       "      <th>Wife_age</th>\n",
       "      <th>Wife_education</th>\n",
       "      <th>Husband_education</th>\n",
       "      <th>No_of_children_born</th>\n",
       "      <th>Wife_religion</th>\n",
       "      <th>Wife_Working</th>\n",
       "      <th>Husband_Occupation</th>\n",
       "      <th>Standard_of_living_index</th>\n",
       "      <th>Media_exposure</th>\n",
       "      <th>Contraceptive_method_used</th>\n",
       "    </tr>\n",
       "  </thead>\n",
       "  <tbody>\n",
       "    <tr>\n",
       "      <th>0</th>\n",
       "      <td>0</td>\n",
       "      <td>24.0</td>\n",
       "      <td>2</td>\n",
       "      <td>3</td>\n",
       "      <td>3.0</td>\n",
       "      <td>0</td>\n",
       "      <td>1</td>\n",
       "      <td>2</td>\n",
       "      <td>4</td>\n",
       "      <td>0</td>\n",
       "      <td>1</td>\n",
       "    </tr>\n",
       "    <tr>\n",
       "      <th>1</th>\n",
       "      <td>1</td>\n",
       "      <td>45.0</td>\n",
       "      <td>1</td>\n",
       "      <td>3</td>\n",
       "      <td>10.0</td>\n",
       "      <td>0</td>\n",
       "      <td>1</td>\n",
       "      <td>3</td>\n",
       "      <td>3</td>\n",
       "      <td>0</td>\n",
       "      <td>1</td>\n",
       "    </tr>\n",
       "    <tr>\n",
       "      <th>2</th>\n",
       "      <td>2</td>\n",
       "      <td>43.0</td>\n",
       "      <td>2</td>\n",
       "      <td>3</td>\n",
       "      <td>7.0</td>\n",
       "      <td>0</td>\n",
       "      <td>1</td>\n",
       "      <td>3</td>\n",
       "      <td>3</td>\n",
       "      <td>0</td>\n",
       "      <td>1</td>\n",
       "    </tr>\n",
       "    <tr>\n",
       "      <th>3</th>\n",
       "      <td>3</td>\n",
       "      <td>42.0</td>\n",
       "      <td>3</td>\n",
       "      <td>2</td>\n",
       "      <td>9.0</td>\n",
       "      <td>0</td>\n",
       "      <td>1</td>\n",
       "      <td>3</td>\n",
       "      <td>4</td>\n",
       "      <td>0</td>\n",
       "      <td>1</td>\n",
       "    </tr>\n",
       "    <tr>\n",
       "      <th>4</th>\n",
       "      <td>4</td>\n",
       "      <td>36.0</td>\n",
       "      <td>3</td>\n",
       "      <td>3</td>\n",
       "      <td>8.0</td>\n",
       "      <td>0</td>\n",
       "      <td>1</td>\n",
       "      <td>3</td>\n",
       "      <td>2</td>\n",
       "      <td>0</td>\n",
       "      <td>1</td>\n",
       "    </tr>\n",
       "    <tr>\n",
       "      <th>...</th>\n",
       "      <td>...</td>\n",
       "      <td>...</td>\n",
       "      <td>...</td>\n",
       "      <td>...</td>\n",
       "      <td>...</td>\n",
       "      <td>...</td>\n",
       "      <td>...</td>\n",
       "      <td>...</td>\n",
       "      <td>...</td>\n",
       "      <td>...</td>\n",
       "      <td>...</td>\n",
       "    </tr>\n",
       "    <tr>\n",
       "      <th>1301</th>\n",
       "      <td>1466</td>\n",
       "      <td>42.0</td>\n",
       "      <td>2</td>\n",
       "      <td>4</td>\n",
       "      <td>3.0</td>\n",
       "      <td>0</td>\n",
       "      <td>1</td>\n",
       "      <td>2</td>\n",
       "      <td>3</td>\n",
       "      <td>0</td>\n",
       "      <td>0</td>\n",
       "    </tr>\n",
       "    <tr>\n",
       "      <th>1302</th>\n",
       "      <td>1468</td>\n",
       "      <td>33.0</td>\n",
       "      <td>4</td>\n",
       "      <td>4</td>\n",
       "      <td>3.0</td>\n",
       "      <td>0</td>\n",
       "      <td>0</td>\n",
       "      <td>2</td>\n",
       "      <td>3</td>\n",
       "      <td>0</td>\n",
       "      <td>0</td>\n",
       "    </tr>\n",
       "    <tr>\n",
       "      <th>1303</th>\n",
       "      <td>1470</td>\n",
       "      <td>39.0</td>\n",
       "      <td>3</td>\n",
       "      <td>3</td>\n",
       "      <td>3.0</td>\n",
       "      <td>0</td>\n",
       "      <td>0</td>\n",
       "      <td>1</td>\n",
       "      <td>3</td>\n",
       "      <td>0</td>\n",
       "      <td>0</td>\n",
       "    </tr>\n",
       "    <tr>\n",
       "      <th>1304</th>\n",
       "      <td>1471</td>\n",
       "      <td>33.0</td>\n",
       "      <td>3</td>\n",
       "      <td>3</td>\n",
       "      <td>3.0</td>\n",
       "      <td>0</td>\n",
       "      <td>0</td>\n",
       "      <td>2</td>\n",
       "      <td>2</td>\n",
       "      <td>0</td>\n",
       "      <td>0</td>\n",
       "    </tr>\n",
       "    <tr>\n",
       "      <th>1305</th>\n",
       "      <td>1472</td>\n",
       "      <td>17.0</td>\n",
       "      <td>3</td>\n",
       "      <td>3</td>\n",
       "      <td>1.0</td>\n",
       "      <td>0</td>\n",
       "      <td>1</td>\n",
       "      <td>2</td>\n",
       "      <td>3</td>\n",
       "      <td>0</td>\n",
       "      <td>0</td>\n",
       "    </tr>\n",
       "  </tbody>\n",
       "</table>\n",
       "<p>1306 rows × 11 columns</p>\n",
       "</div>"
      ],
      "text/plain": [
       "      index  Wife_age Wife_education Husband_education  No_of_children_born  \\\n",
       "0         0      24.0              2                 3                  3.0   \n",
       "1         1      45.0              1                 3                 10.0   \n",
       "2         2      43.0              2                 3                  7.0   \n",
       "3         3      42.0              3                 2                  9.0   \n",
       "4         4      36.0              3                 3                  8.0   \n",
       "...     ...       ...            ...               ...                  ...   \n",
       "1301   1466      42.0              2                 4                  3.0   \n",
       "1302   1468      33.0              4                 4                  3.0   \n",
       "1303   1470      39.0              3                 3                  3.0   \n",
       "1304   1471      33.0              3                 3                  3.0   \n",
       "1305   1472      17.0              3                 3                  1.0   \n",
       "\n",
       "     Wife_religion Wife_Working Husband_Occupation Standard_of_living_index  \\\n",
       "0                0            1                  2                        4   \n",
       "1                0            1                  3                        3   \n",
       "2                0            1                  3                        3   \n",
       "3                0            1                  3                        4   \n",
       "4                0            1                  3                        2   \n",
       "...            ...          ...                ...                      ...   \n",
       "1301             0            1                  2                        3   \n",
       "1302             0            0                  2                        3   \n",
       "1303             0            0                  1                        3   \n",
       "1304             0            0                  2                        2   \n",
       "1305             0            1                  2                        3   \n",
       "\n",
       "     Media_exposure Contraceptive_method_used  \n",
       "0                 0                         1  \n",
       "1                 0                         1  \n",
       "2                 0                         1  \n",
       "3                 0                         1  \n",
       "4                 0                         1  \n",
       "...             ...                       ...  \n",
       "1301              0                         0  \n",
       "1302              0                         0  \n",
       "1303              0                         0  \n",
       "1304              0                         0  \n",
       "1305              0                         0  \n",
       "\n",
       "[1306 rows x 11 columns]"
      ]
     },
     "execution_count": 55,
     "metadata": {},
     "output_type": "execute_result"
    }
   ],
   "source": [
    "tree_df1.reset_index()"
   ]
  },
  {
   "cell_type": "code",
   "execution_count": 56,
   "id": "642a520f",
   "metadata": {},
   "outputs": [
    {
     "data": {
      "text/html": [
       "<div>\n",
       "<style scoped>\n",
       "    .dataframe tbody tr th:only-of-type {\n",
       "        vertical-align: middle;\n",
       "    }\n",
       "\n",
       "    .dataframe tbody tr th {\n",
       "        vertical-align: top;\n",
       "    }\n",
       "\n",
       "    .dataframe thead th {\n",
       "        text-align: right;\n",
       "    }\n",
       "</style>\n",
       "<table border=\"1\" class=\"dataframe\">\n",
       "  <thead>\n",
       "    <tr style=\"text-align: right;\">\n",
       "      <th></th>\n",
       "      <th>index</th>\n",
       "      <th>Wife_age</th>\n",
       "      <th>Wife_education</th>\n",
       "      <th>Husband_education</th>\n",
       "      <th>No_of_children_born</th>\n",
       "      <th>Wife_religion</th>\n",
       "      <th>Wife_Working</th>\n",
       "      <th>Husband_Occupation</th>\n",
       "      <th>Standard_of_living_index</th>\n",
       "      <th>Media_exposure</th>\n",
       "      <th>Contraceptive_method_used</th>\n",
       "    </tr>\n",
       "  </thead>\n",
       "  <tbody>\n",
       "    <tr>\n",
       "      <th>0</th>\n",
       "      <td>0</td>\n",
       "      <td>24.0</td>\n",
       "      <td>2</td>\n",
       "      <td>3</td>\n",
       "      <td>3.0</td>\n",
       "      <td>0</td>\n",
       "      <td>1</td>\n",
       "      <td>2</td>\n",
       "      <td>4</td>\n",
       "      <td>0</td>\n",
       "      <td>1</td>\n",
       "    </tr>\n",
       "    <tr>\n",
       "      <th>1</th>\n",
       "      <td>1</td>\n",
       "      <td>45.0</td>\n",
       "      <td>1</td>\n",
       "      <td>3</td>\n",
       "      <td>10.0</td>\n",
       "      <td>0</td>\n",
       "      <td>1</td>\n",
       "      <td>3</td>\n",
       "      <td>3</td>\n",
       "      <td>0</td>\n",
       "      <td>1</td>\n",
       "    </tr>\n",
       "    <tr>\n",
       "      <th>2</th>\n",
       "      <td>2</td>\n",
       "      <td>43.0</td>\n",
       "      <td>2</td>\n",
       "      <td>3</td>\n",
       "      <td>7.0</td>\n",
       "      <td>0</td>\n",
       "      <td>1</td>\n",
       "      <td>3</td>\n",
       "      <td>3</td>\n",
       "      <td>0</td>\n",
       "      <td>1</td>\n",
       "    </tr>\n",
       "    <tr>\n",
       "      <th>3</th>\n",
       "      <td>3</td>\n",
       "      <td>42.0</td>\n",
       "      <td>3</td>\n",
       "      <td>2</td>\n",
       "      <td>9.0</td>\n",
       "      <td>0</td>\n",
       "      <td>1</td>\n",
       "      <td>3</td>\n",
       "      <td>4</td>\n",
       "      <td>0</td>\n",
       "      <td>1</td>\n",
       "    </tr>\n",
       "    <tr>\n",
       "      <th>4</th>\n",
       "      <td>4</td>\n",
       "      <td>36.0</td>\n",
       "      <td>3</td>\n",
       "      <td>3</td>\n",
       "      <td>8.0</td>\n",
       "      <td>0</td>\n",
       "      <td>1</td>\n",
       "      <td>3</td>\n",
       "      <td>2</td>\n",
       "      <td>0</td>\n",
       "      <td>1</td>\n",
       "    </tr>\n",
       "    <tr>\n",
       "      <th>...</th>\n",
       "      <td>...</td>\n",
       "      <td>...</td>\n",
       "      <td>...</td>\n",
       "      <td>...</td>\n",
       "      <td>...</td>\n",
       "      <td>...</td>\n",
       "      <td>...</td>\n",
       "      <td>...</td>\n",
       "      <td>...</td>\n",
       "      <td>...</td>\n",
       "      <td>...</td>\n",
       "    </tr>\n",
       "    <tr>\n",
       "      <th>1301</th>\n",
       "      <td>1466</td>\n",
       "      <td>42.0</td>\n",
       "      <td>2</td>\n",
       "      <td>4</td>\n",
       "      <td>3.0</td>\n",
       "      <td>0</td>\n",
       "      <td>1</td>\n",
       "      <td>2</td>\n",
       "      <td>3</td>\n",
       "      <td>0</td>\n",
       "      <td>0</td>\n",
       "    </tr>\n",
       "    <tr>\n",
       "      <th>1302</th>\n",
       "      <td>1468</td>\n",
       "      <td>33.0</td>\n",
       "      <td>4</td>\n",
       "      <td>4</td>\n",
       "      <td>3.0</td>\n",
       "      <td>0</td>\n",
       "      <td>0</td>\n",
       "      <td>2</td>\n",
       "      <td>3</td>\n",
       "      <td>0</td>\n",
       "      <td>0</td>\n",
       "    </tr>\n",
       "    <tr>\n",
       "      <th>1303</th>\n",
       "      <td>1470</td>\n",
       "      <td>39.0</td>\n",
       "      <td>3</td>\n",
       "      <td>3</td>\n",
       "      <td>3.0</td>\n",
       "      <td>0</td>\n",
       "      <td>0</td>\n",
       "      <td>1</td>\n",
       "      <td>3</td>\n",
       "      <td>0</td>\n",
       "      <td>0</td>\n",
       "    </tr>\n",
       "    <tr>\n",
       "      <th>1304</th>\n",
       "      <td>1471</td>\n",
       "      <td>33.0</td>\n",
       "      <td>3</td>\n",
       "      <td>3</td>\n",
       "      <td>3.0</td>\n",
       "      <td>0</td>\n",
       "      <td>0</td>\n",
       "      <td>2</td>\n",
       "      <td>2</td>\n",
       "      <td>0</td>\n",
       "      <td>0</td>\n",
       "    </tr>\n",
       "    <tr>\n",
       "      <th>1305</th>\n",
       "      <td>1472</td>\n",
       "      <td>17.0</td>\n",
       "      <td>3</td>\n",
       "      <td>3</td>\n",
       "      <td>1.0</td>\n",
       "      <td>0</td>\n",
       "      <td>1</td>\n",
       "      <td>2</td>\n",
       "      <td>3</td>\n",
       "      <td>0</td>\n",
       "      <td>0</td>\n",
       "    </tr>\n",
       "  </tbody>\n",
       "</table>\n",
       "<p>1306 rows × 11 columns</p>\n",
       "</div>"
      ],
      "text/plain": [
       "      index  Wife_age Wife_education Husband_education  No_of_children_born  \\\n",
       "0         0      24.0              2                 3                  3.0   \n",
       "1         1      45.0              1                 3                 10.0   \n",
       "2         2      43.0              2                 3                  7.0   \n",
       "3         3      42.0              3                 2                  9.0   \n",
       "4         4      36.0              3                 3                  8.0   \n",
       "...     ...       ...            ...               ...                  ...   \n",
       "1301   1466      42.0              2                 4                  3.0   \n",
       "1302   1468      33.0              4                 4                  3.0   \n",
       "1303   1470      39.0              3                 3                  3.0   \n",
       "1304   1471      33.0              3                 3                  3.0   \n",
       "1305   1472      17.0              3                 3                  1.0   \n",
       "\n",
       "     Wife_religion Wife_Working Husband_Occupation Standard_of_living_index  \\\n",
       "0                0            1                  2                        4   \n",
       "1                0            1                  3                        3   \n",
       "2                0            1                  3                        3   \n",
       "3                0            1                  3                        4   \n",
       "4                0            1                  3                        2   \n",
       "...            ...          ...                ...                      ...   \n",
       "1301             0            1                  2                        3   \n",
       "1302             0            0                  2                        3   \n",
       "1303             0            0                  1                        3   \n",
       "1304             0            0                  2                        2   \n",
       "1305             0            1                  2                        3   \n",
       "\n",
       "     Media_exposure Contraceptive_method_used  \n",
       "0                 0                         1  \n",
       "1                 0                         1  \n",
       "2                 0                         1  \n",
       "3                 0                         1  \n",
       "4                 0                         1  \n",
       "...             ...                       ...  \n",
       "1301              0                         0  \n",
       "1302              0                         0  \n",
       "1303              0                         0  \n",
       "1304              0                         0  \n",
       "1305              0                         0  \n",
       "\n",
       "[1306 rows x 11 columns]"
      ]
     },
     "execution_count": 56,
     "metadata": {},
     "output_type": "execute_result"
    }
   ],
   "source": [
    "fill_df1.reset_index()"
   ]
  },
  {
   "cell_type": "code",
   "execution_count": 57,
   "id": "ef648e3e",
   "metadata": {},
   "outputs": [],
   "source": [
    "fill_df1['Contraceptive_method_used']=fill_df1['Contraceptive_method_used'].astype('int')"
   ]
  },
  {
   "cell_type": "code",
   "execution_count": 58,
   "id": "7062a24f",
   "metadata": {},
   "outputs": [],
   "source": [
    "# Train Test Spilt\n",
    "X2= fill_df1.drop('Contraceptive_method_used',axis=1)\n",
    "Y2= fill_df1.pop('Contraceptive_method_used')"
   ]
  },
  {
   "cell_type": "code",
   "execution_count": 59,
   "id": "0f1673e9",
   "metadata": {},
   "outputs": [],
   "source": [
    "X1_train,X1_test,y1_train,y1_test=train_test_split(X2,Y2,test_size=0.30,random_state=1)"
   ]
  },
  {
   "cell_type": "code",
   "execution_count": 60,
   "id": "2004eee4",
   "metadata": {},
   "outputs": [
    {
     "data": {
      "text/plain": [
       "0    0.565646\n",
       "1    0.434354\n",
       "Name: Contraceptive_method_used, dtype: float64"
      ]
     },
     "execution_count": 60,
     "metadata": {},
     "output_type": "execute_result"
    }
   ],
   "source": [
    "y1_train.value_counts(1)"
   ]
  },
  {
   "cell_type": "code",
   "execution_count": 61,
   "id": "60635b47",
   "metadata": {},
   "outputs": [
    {
     "data": {
      "text/plain": [
       "1    0.507653\n",
       "0    0.492347\n",
       "Name: Contraceptive_method_used, dtype: float64"
      ]
     },
     "execution_count": 61,
     "metadata": {},
     "output_type": "execute_result"
    }
   ],
   "source": [
    "y1_test.value_counts(1)"
   ]
  },
  {
   "cell_type": "markdown",
   "id": "3907f07a",
   "metadata": {},
   "source": [
    "# Logistic Regression Model"
   ]
  },
  {
   "cell_type": "code",
   "execution_count": 62,
   "id": "338f7c05",
   "metadata": {},
   "outputs": [],
   "source": [
    "from sklearn.linear_model import LogisticRegression"
   ]
  },
  {
   "cell_type": "code",
   "execution_count": 63,
   "id": "2de73c40",
   "metadata": {},
   "outputs": [],
   "source": [
    "from sklearn.metrics import confusion_matrix,classification_report,plot_confusion_matrix"
   ]
  },
  {
   "cell_type": "code",
   "execution_count": 64,
   "id": "a0c394cb",
   "metadata": {},
   "outputs": [
    {
     "data": {
      "text/plain": [
       "LogisticRegression()"
      ]
     },
     "execution_count": 64,
     "metadata": {},
     "output_type": "execute_result"
    }
   ],
   "source": [
    "model1=LogisticRegression()\n",
    "model1.fit(X1_train,y1_train)\n",
    "\n"
   ]
  },
  {
   "cell_type": "code",
   "execution_count": 65,
   "id": "834571eb",
   "metadata": {},
   "outputs": [
    {
     "data": {
      "text/plain": [
       "LogisticRegression()"
      ]
     },
     "execution_count": 65,
     "metadata": {},
     "output_type": "execute_result"
    }
   ],
   "source": [
    "model1.fit(X1_train,y1_train)"
   ]
  },
  {
   "cell_type": "code",
   "execution_count": 66,
   "id": "9e9a7c52",
   "metadata": {},
   "outputs": [
    {
     "data": {
      "text/plain": [
       "array([1.10212039])"
      ]
     },
     "execution_count": 66,
     "metadata": {},
     "output_type": "execute_result"
    }
   ],
   "source": [
    "model1.intercept_"
   ]
  },
  {
   "cell_type": "code",
   "execution_count": 67,
   "id": "df9ecd3b",
   "metadata": {},
   "outputs": [
    {
     "data": {
      "text/plain": [
       "array([[ 0.07944226, -0.44334872, -0.1316103 , -0.35154588, -0.66263508,\n",
       "         0.02166494, -0.25928592, -0.17063442,  0.55687751]])"
      ]
     },
     "execution_count": 67,
     "metadata": {},
     "output_type": "execute_result"
    }
   ],
   "source": [
    "model1.coef_"
   ]
  },
  {
   "cell_type": "code",
   "execution_count": 68,
   "id": "cc38ccfc",
   "metadata": {},
   "outputs": [],
   "source": [
    "y1_predict=model1.predict(X1_test)"
   ]
  },
  {
   "cell_type": "code",
   "execution_count": 69,
   "id": "65722efe",
   "metadata": {},
   "outputs": [],
   "source": [
    "y1_trainpredict=model1.predict(X1_train)"
   ]
  },
  {
   "cell_type": "code",
   "execution_count": 70,
   "id": "a457f3d5",
   "metadata": {},
   "outputs": [],
   "source": [
    "model_score=model1.score(X1_test,y1_test)"
   ]
  },
  {
   "cell_type": "code",
   "execution_count": 71,
   "id": "90c28f43",
   "metadata": {},
   "outputs": [],
   "source": [
    "model_score_train=model1.score(X1_train,y1_train)"
   ]
  },
  {
   "cell_type": "code",
   "execution_count": 72,
   "id": "28e3b9b4",
   "metadata": {},
   "outputs": [
    {
     "name": "stdout",
     "output_type": "stream",
     "text": [
      "0.6673960612691466\n"
     ]
    }
   ],
   "source": [
    "print(model_score_train)"
   ]
  },
  {
   "cell_type": "code",
   "execution_count": 73,
   "id": "9772040c",
   "metadata": {},
   "outputs": [
    {
     "name": "stdout",
     "output_type": "stream",
     "text": [
      "0.6096938775510204\n"
     ]
    }
   ],
   "source": [
    "print(model_score)"
   ]
  },
  {
   "cell_type": "code",
   "execution_count": 74,
   "id": "f388a15c",
   "metadata": {},
   "outputs": [
    {
     "name": "stdout",
     "output_type": "stream",
     "text": [
      "0.6096938775510204\n",
      "[[158  35]\n",
      " [118  81]]\n",
      "              precision    recall  f1-score   support\n",
      "\n",
      "           0       0.57      0.82      0.67       193\n",
      "           1       0.70      0.41      0.51       199\n",
      "\n",
      "    accuracy                           0.61       392\n",
      "   macro avg       0.64      0.61      0.59       392\n",
      "weighted avg       0.64      0.61      0.59       392\n",
      "\n"
     ]
    }
   ],
   "source": [
    "print(model_score)\n",
    "print(confusion_matrix(y1_test,y1_predict))\n",
    "print(classification_report(y1_test,y1_predict))"
   ]
  },
  {
   "cell_type": "code",
   "execution_count": 75,
   "id": "b0c4cb06",
   "metadata": {},
   "outputs": [
    {
     "data": {
      "text/html": [
       "<div>\n",
       "<style scoped>\n",
       "    .dataframe tbody tr th:only-of-type {\n",
       "        vertical-align: middle;\n",
       "    }\n",
       "\n",
       "    .dataframe tbody tr th {\n",
       "        vertical-align: top;\n",
       "    }\n",
       "\n",
       "    .dataframe thead th {\n",
       "        text-align: right;\n",
       "    }\n",
       "</style>\n",
       "<table border=\"1\" class=\"dataframe\">\n",
       "  <thead>\n",
       "    <tr style=\"text-align: right;\">\n",
       "      <th></th>\n",
       "      <th>0</th>\n",
       "      <th>1</th>\n",
       "    </tr>\n",
       "  </thead>\n",
       "  <tbody>\n",
       "    <tr>\n",
       "      <th>0</th>\n",
       "      <td>0.611803</td>\n",
       "      <td>0.388197</td>\n",
       "    </tr>\n",
       "    <tr>\n",
       "      <th>1</th>\n",
       "      <td>0.738735</td>\n",
       "      <td>0.261265</td>\n",
       "    </tr>\n",
       "    <tr>\n",
       "      <th>2</th>\n",
       "      <td>0.699772</td>\n",
       "      <td>0.300228</td>\n",
       "    </tr>\n",
       "    <tr>\n",
       "      <th>3</th>\n",
       "      <td>0.644874</td>\n",
       "      <td>0.355126</td>\n",
       "    </tr>\n",
       "    <tr>\n",
       "      <th>4</th>\n",
       "      <td>0.325091</td>\n",
       "      <td>0.674909</td>\n",
       "    </tr>\n",
       "  </tbody>\n",
       "</table>\n",
       "</div>"
      ],
      "text/plain": [
       "          0         1\n",
       "0  0.611803  0.388197\n",
       "1  0.738735  0.261265\n",
       "2  0.699772  0.300228\n",
       "3  0.644874  0.355126\n",
       "4  0.325091  0.674909"
      ]
     },
     "execution_count": 75,
     "metadata": {},
     "output_type": "execute_result"
    }
   ],
   "source": [
    "y1_predictprob= model1.predict_proba(X1_test)\n",
    "pd.DataFrame(y1_predictprob).head()"
   ]
  },
  {
   "cell_type": "code",
   "execution_count": 76,
   "id": "a25692ed",
   "metadata": {},
   "outputs": [
    {
     "data": {
      "text/plain": [
       "array([[416, 101],\n",
       "       [203, 194]], dtype=int64)"
      ]
     },
     "execution_count": 76,
     "metadata": {},
     "output_type": "execute_result"
    }
   ],
   "source": [
    "# Confusion matrix for training Data\n",
    "confusion_matrix(y1_train,y1_trainpredict)"
   ]
  },
  {
   "cell_type": "code",
   "execution_count": 77,
   "id": "7b680dfc",
   "metadata": {},
   "outputs": [
    {
     "data": {
      "image/png": "[encoded data removed]",
      "text/plain": [
       "<Figure size 432x288 with 2 Axes>"
      ]
     },
     "metadata": {},
     "output_type": "display_data"
    }
   ],
   "source": [
    "plot_confusion_matrix(model1,X1_train,y1_train);"
   ]
  },
  {
   "cell_type": "code",
   "execution_count": 78,
   "id": "87b26aac",
   "metadata": {},
   "outputs": [
    {
     "data": {
      "text/plain": [
       "array([[158,  35],\n",
       "       [118,  81]], dtype=int64)"
      ]
     },
     "execution_count": 78,
     "metadata": {},
     "output_type": "execute_result"
    }
   ],
   "source": [
    "# confusion_matrix for test data\n",
    "confusion_matrix(y1_test,y1_predict)"
   ]
  },
  {
   "cell_type": "code",
   "execution_count": 79,
   "id": "0942a29a",
   "metadata": {},
   "outputs": [
    {
     "data": {
      "text/plain": [
       "<sklearn.metrics._plot.confusion_matrix.ConfusionMatrixDisplay at 0x1d68346bb50>"
      ]
     },
     "execution_count": 79,
     "metadata": {},
     "output_type": "execute_result"
    },
    {
     "data": {
      "image/png": "[encoded data removed]",
      "text/plain": [
       "<Figure size 432x288 with 2 Axes>"
      ]
     },
     "metadata": {},
     "output_type": "display_data"
    }
   ],
   "source": [
    "plot_confusion_matrix(model1,X1_test,y1_test)"
   ]
  },
  {
   "cell_type": "markdown",
   "id": "b6d131ce",
   "metadata": {},
   "source": [
    "# Linear Discriminant Analysis Model"
   ]
  },
  {
   "cell_type": "code",
   "execution_count": 80,
   "id": "614b7d0d",
   "metadata": {},
   "outputs": [
    {
     "data": {
      "text/plain": [
       "LinearDiscriminantAnalysis()"
      ]
     },
     "execution_count": 80,
     "metadata": {},
     "output_type": "execute_result"
    }
   ],
   "source": [
    "# Build LDA\n",
    "clif=LinearDiscriminantAnalysis()\n",
    "model=clif.fit(X1_train,y1_train)\n",
    "model"
   ]
  },
  {
   "cell_type": "markdown",
   "id": "c2791654",
   "metadata": {},
   "source": [
    "# Generate Coefficients and intercept for the Linear Discriminant Function"
   ]
  },
  {
   "cell_type": "code",
   "execution_count": 81,
   "id": "884e4071",
   "metadata": {},
   "outputs": [
    {
     "data": {
      "text/plain": [
       "array([1.10819295])"
      ]
     },
     "execution_count": 81,
     "metadata": {},
     "output_type": "execute_result"
    }
   ],
   "source": [
    "model.intercept_"
   ]
  },
  {
   "cell_type": "code",
   "execution_count": 82,
   "id": "5b344303",
   "metadata": {},
   "outputs": [
    {
     "data": {
      "text/plain": [
       "array([[ 0.07849492, -0.43795411, -0.12939559, -0.34158978, -0.69467487,\n",
       "         0.00845422, -0.25831741, -0.18569624,  0.5621857 ]])"
      ]
     },
     "execution_count": 82,
     "metadata": {},
     "output_type": "execute_result"
    }
   ],
   "source": [
    "model.coef_"
   ]
  },
  {
   "cell_type": "code",
   "execution_count": 83,
   "id": "1c642429",
   "metadata": {},
   "outputs": [
    {
     "data": {
      "text/plain": [
       "Index(['Wife_age', 'Wife_education', 'Husband_education',\n",
       "       'No_of_children_born', 'Wife_religion', 'Wife_Working',\n",
       "       'Husband_Occupation', 'Standard_of_living_index', 'Media_exposure'],\n",
       "      dtype='object')"
      ]
     },
     "execution_count": 83,
     "metadata": {},
     "output_type": "execute_result"
    }
   ],
   "source": [
    "X1_train.columns"
   ]
  },
  {
   "cell_type": "markdown",
   "id": "357a0657",
   "metadata": {},
   "source": [
    "Linear Discriminant Function"
   ]
  },
  {
   "cell_type": "markdown",
   "id": "2f53c817",
   "metadata": {},
   "source": [
    "#### 3.17+(0.07*Wife_age)+(-0.43* Wife_education)+(-0.12 * Husband_education)+(-0.34 * No_of_children_born)+(-0.69 * Wife_religion)+(0.008 * Wife_Working)+(-0.25 * Husband_Occupation)+(-0.18 * Standard_of_living_index)+(0.56 * Media_exposure)"
   ]
  },
  {
   "cell_type": "code",
   "execution_count": 84,
   "id": "9da4f6c9",
   "metadata": {},
   "outputs": [
    {
     "data": {
      "text/plain": [
       "array([[ 0.08, -0.44, -0.13, -0.34, -0.69,  0.01, -0.26, -0.19,  0.56]])"
      ]
     },
     "execution_count": 84,
     "metadata": {},
     "output_type": "execute_result"
    }
   ],
   "source": [
    "a=model.coef_\n",
    "np.round(a,2)"
   ]
  },
  {
   "cell_type": "markdown",
   "id": "834c0c99",
   "metadata": {},
   "source": [
    "# prediction"
   ]
  },
  {
   "cell_type": "code",
   "execution_count": 85,
   "id": "1af778ba",
   "metadata": {},
   "outputs": [],
   "source": [
    "# train Prediction\n",
    "pred_class_train=model.predict(X1_train)\n",
    "\n",
    "# test Prediction\n",
    "pred_class_test=model.predict(X1_test)"
   ]
  },
  {
   "cell_type": "code",
   "execution_count": 86,
   "id": "3e49231c",
   "metadata": {},
   "outputs": [
    {
     "name": "stdout",
     "output_type": "stream",
     "text": [
      "Classification Report of training Data: \n",
      "\n",
      "               precision    recall  f1-score   support\n",
      "\n",
      "           0       0.67      0.81      0.73       517\n",
      "           1       0.66      0.48      0.55       397\n",
      "\n",
      "    accuracy                           0.67       914\n",
      "   macro avg       0.66      0.64      0.64       914\n",
      "weighted avg       0.67      0.67      0.66       914\n",
      " \n",
      "\n",
      "Classification Report of test Data: \n",
      "\n",
      "               precision    recall  f1-score   support\n",
      "\n",
      "           0       0.57      0.82      0.68       193\n",
      "           1       0.70      0.40      0.51       199\n",
      "\n",
      "    accuracy                           0.61       392\n",
      "   macro avg       0.64      0.61      0.59       392\n",
      "weighted avg       0.64      0.61      0.59       392\n",
      " \n",
      "\n"
     ]
    }
   ],
   "source": [
    "print('Classification Report of training Data: \\n\\n',classification_report(y1_train,pred_class_train),'\\n')\n",
    "print('Classification Report of test Data: \\n\\n',classification_report(y1_test,pred_class_test),'\\n')"
   ]
  },
  {
   "cell_type": "markdown",
   "id": "20d2dc4d",
   "metadata": {},
   "source": [
    "# CART Model"
   ]
  },
  {
   "cell_type": "code",
   "execution_count": 87,
   "id": "390a7598",
   "metadata": {},
   "outputs": [
    {
     "data": {
      "text/html": [
       "<div>\n",
       "<style scoped>\n",
       "    .dataframe tbody tr th:only-of-type {\n",
       "        vertical-align: middle;\n",
       "    }\n",
       "\n",
       "    .dataframe tbody tr th {\n",
       "        vertical-align: top;\n",
       "    }\n",
       "\n",
       "    .dataframe thead th {\n",
       "        text-align: right;\n",
       "    }\n",
       "</style>\n",
       "<table border=\"1\" class=\"dataframe\">\n",
       "  <thead>\n",
       "    <tr style=\"text-align: right;\">\n",
       "      <th></th>\n",
       "      <th>Wife_age</th>\n",
       "      <th>Wife_education</th>\n",
       "      <th>Husband_education</th>\n",
       "      <th>No_of_children_born</th>\n",
       "      <th>Wife_religion</th>\n",
       "      <th>Wife_Working</th>\n",
       "      <th>Husband_Occupation</th>\n",
       "      <th>Standard_of_living_index</th>\n",
       "      <th>Media_exposure</th>\n",
       "      <th>Contraceptive_method_used</th>\n",
       "    </tr>\n",
       "  </thead>\n",
       "  <tbody>\n",
       "    <tr>\n",
       "      <th>0</th>\n",
       "      <td>24.0</td>\n",
       "      <td>2</td>\n",
       "      <td>3</td>\n",
       "      <td>3.0</td>\n",
       "      <td>0</td>\n",
       "      <td>1</td>\n",
       "      <td>2</td>\n",
       "      <td>4</td>\n",
       "      <td>0</td>\n",
       "      <td>1</td>\n",
       "    </tr>\n",
       "    <tr>\n",
       "      <th>1</th>\n",
       "      <td>45.0</td>\n",
       "      <td>1</td>\n",
       "      <td>3</td>\n",
       "      <td>10.0</td>\n",
       "      <td>0</td>\n",
       "      <td>1</td>\n",
       "      <td>3</td>\n",
       "      <td>3</td>\n",
       "      <td>0</td>\n",
       "      <td>1</td>\n",
       "    </tr>\n",
       "    <tr>\n",
       "      <th>2</th>\n",
       "      <td>43.0</td>\n",
       "      <td>2</td>\n",
       "      <td>3</td>\n",
       "      <td>7.0</td>\n",
       "      <td>0</td>\n",
       "      <td>1</td>\n",
       "      <td>3</td>\n",
       "      <td>3</td>\n",
       "      <td>0</td>\n",
       "      <td>1</td>\n",
       "    </tr>\n",
       "    <tr>\n",
       "      <th>3</th>\n",
       "      <td>42.0</td>\n",
       "      <td>3</td>\n",
       "      <td>2</td>\n",
       "      <td>9.0</td>\n",
       "      <td>0</td>\n",
       "      <td>1</td>\n",
       "      <td>3</td>\n",
       "      <td>4</td>\n",
       "      <td>0</td>\n",
       "      <td>1</td>\n",
       "    </tr>\n",
       "    <tr>\n",
       "      <th>4</th>\n",
       "      <td>36.0</td>\n",
       "      <td>3</td>\n",
       "      <td>3</td>\n",
       "      <td>8.0</td>\n",
       "      <td>0</td>\n",
       "      <td>1</td>\n",
       "      <td>3</td>\n",
       "      <td>2</td>\n",
       "      <td>0</td>\n",
       "      <td>1</td>\n",
       "    </tr>\n",
       "  </tbody>\n",
       "</table>\n",
       "</div>"
      ],
      "text/plain": [
       "   Wife_age Wife_education Husband_education  No_of_children_born  \\\n",
       "0      24.0              2                 3                  3.0   \n",
       "1      45.0              1                 3                 10.0   \n",
       "2      43.0              2                 3                  7.0   \n",
       "3      42.0              3                 2                  9.0   \n",
       "4      36.0              3                 3                  8.0   \n",
       "\n",
       "  Wife_religion Wife_Working Husband_Occupation Standard_of_living_index  \\\n",
       "0             0            1                  2                        4   \n",
       "1             0            1                  3                        3   \n",
       "2             0            1                  3                        3   \n",
       "3             0            1                  3                        4   \n",
       "4             0            1                  3                        2   \n",
       "\n",
       "  Media_exposure Contraceptive_method_used  \n",
       "0              0                         1  \n",
       "1              0                         1  \n",
       "2              0                         1  \n",
       "3              0                         1  \n",
       "4              0                         1  "
      ]
     },
     "execution_count": 87,
     "metadata": {},
     "output_type": "execute_result"
    }
   ],
   "source": [
    "tree_df1.head()"
   ]
  },
  {
   "cell_type": "code",
   "execution_count": 88,
   "id": "f4f28bb1",
   "metadata": {},
   "outputs": [
    {
     "data": {
      "text/plain": [
       "Index(['Wife_age', 'Wife_education', 'Husband_education',\n",
       "       'No_of_children_born', 'Wife_religion', 'Wife_Working',\n",
       "       'Husband_Occupation', 'Standard_of_living_index', 'Media_exposure',\n",
       "       'Contraceptive_method_used'],\n",
       "      dtype='object')"
      ]
     },
     "execution_count": 88,
     "metadata": {},
     "output_type": "execute_result"
    }
   ],
   "source": [
    "tree_df1.columns"
   ]
  },
  {
   "cell_type": "code",
   "execution_count": 89,
   "id": "bd712341",
   "metadata": {},
   "outputs": [
    {
     "name": "stdout",
     "output_type": "stream",
     "text": [
      "<class 'pandas.core.frame.DataFrame'>\n",
      "Int64Index: 1306 entries, 0 to 1472\n",
      "Data columns (total 10 columns):\n",
      " #   Column                     Non-Null Count  Dtype  \n",
      "---  ------                     --------------  -----  \n",
      " 0   Wife_age                   1306 non-null   float64\n",
      " 1   Wife_education             1306 non-null   object \n",
      " 2   Husband_education          1306 non-null   object \n",
      " 3   No_of_children_born        1306 non-null   float64\n",
      " 4   Wife_religion              1306 non-null   object \n",
      " 5   Wife_Working               1306 non-null   object \n",
      " 6   Husband_Occupation         1306 non-null   object \n",
      " 7   Standard_of_living_index   1306 non-null   object \n",
      " 8   Media_exposure             1306 non-null   object \n",
      " 9   Contraceptive_method_used  1306 non-null   object \n",
      "dtypes: float64(2), object(8)\n",
      "memory usage: 112.2+ KB\n"
     ]
    }
   ],
   "source": [
    "tree_df1.info()"
   ]
  },
  {
   "cell_type": "code",
   "execution_count": 90,
   "id": "927ba3c0",
   "metadata": {},
   "outputs": [],
   "source": [
    "for feature in tree_df1.columns:\n",
    "    if tree_df1[feature].dtype=='object':\n",
    "        tree_df1[feature]=pd.Categorical(tree_df1[feature]).codes"
   ]
  },
  {
   "cell_type": "code",
   "execution_count": 91,
   "id": "9af67598",
   "metadata": {},
   "outputs": [
    {
     "data": {
      "text/plain": [
       "0    0.543645\n",
       "1    0.456355\n",
       "Name: Contraceptive_method_used, dtype: float64"
      ]
     },
     "execution_count": 91,
     "metadata": {},
     "output_type": "execute_result"
    }
   ],
   "source": [
    "tree_df1.Contraceptive_method_used.value_counts(normalize=True)"
   ]
  },
  {
   "cell_type": "code",
   "execution_count": 92,
   "id": "d7362179",
   "metadata": {},
   "outputs": [],
   "source": [
    "X1=tree_df1.drop('Contraceptive_method_used',axis=1)\n",
    "Y1=tree_df1.pop('Contraceptive_method_used')"
   ]
  },
  {
   "cell_type": "code",
   "execution_count": 93,
   "id": "01b5fb46",
   "metadata": {},
   "outputs": [
    {
     "data": {
      "text/html": [
       "<div>\n",
       "<style scoped>\n",
       "    .dataframe tbody tr th:only-of-type {\n",
       "        vertical-align: middle;\n",
       "    }\n",
       "\n",
       "    .dataframe tbody tr th {\n",
       "        vertical-align: top;\n",
       "    }\n",
       "\n",
       "    .dataframe thead th {\n",
       "        text-align: right;\n",
       "    }\n",
       "</style>\n",
       "<table border=\"1\" class=\"dataframe\">\n",
       "  <thead>\n",
       "    <tr style=\"text-align: right;\">\n",
       "      <th></th>\n",
       "      <th>Wife_age</th>\n",
       "      <th>Wife_education</th>\n",
       "      <th>Husband_education</th>\n",
       "      <th>No_of_children_born</th>\n",
       "      <th>Wife_religion</th>\n",
       "      <th>Wife_Working</th>\n",
       "      <th>Husband_Occupation</th>\n",
       "      <th>Standard_of_living_index</th>\n",
       "      <th>Media_exposure</th>\n",
       "    </tr>\n",
       "  </thead>\n",
       "  <tbody>\n",
       "    <tr>\n",
       "      <th>0</th>\n",
       "      <td>24.0</td>\n",
       "      <td>1</td>\n",
       "      <td>2</td>\n",
       "      <td>3.0</td>\n",
       "      <td>0</td>\n",
       "      <td>1</td>\n",
       "      <td>1</td>\n",
       "      <td>3</td>\n",
       "      <td>0</td>\n",
       "    </tr>\n",
       "    <tr>\n",
       "      <th>1</th>\n",
       "      <td>45.0</td>\n",
       "      <td>0</td>\n",
       "      <td>2</td>\n",
       "      <td>10.0</td>\n",
       "      <td>0</td>\n",
       "      <td>1</td>\n",
       "      <td>2</td>\n",
       "      <td>2</td>\n",
       "      <td>0</td>\n",
       "    </tr>\n",
       "    <tr>\n",
       "      <th>2</th>\n",
       "      <td>43.0</td>\n",
       "      <td>1</td>\n",
       "      <td>2</td>\n",
       "      <td>7.0</td>\n",
       "      <td>0</td>\n",
       "      <td>1</td>\n",
       "      <td>2</td>\n",
       "      <td>2</td>\n",
       "      <td>0</td>\n",
       "    </tr>\n",
       "    <tr>\n",
       "      <th>3</th>\n",
       "      <td>42.0</td>\n",
       "      <td>2</td>\n",
       "      <td>1</td>\n",
       "      <td>9.0</td>\n",
       "      <td>0</td>\n",
       "      <td>1</td>\n",
       "      <td>2</td>\n",
       "      <td>3</td>\n",
       "      <td>0</td>\n",
       "    </tr>\n",
       "    <tr>\n",
       "      <th>4</th>\n",
       "      <td>36.0</td>\n",
       "      <td>2</td>\n",
       "      <td>2</td>\n",
       "      <td>8.0</td>\n",
       "      <td>0</td>\n",
       "      <td>1</td>\n",
       "      <td>2</td>\n",
       "      <td>1</td>\n",
       "      <td>0</td>\n",
       "    </tr>\n",
       "  </tbody>\n",
       "</table>\n",
       "</div>"
      ],
      "text/plain": [
       "   Wife_age  Wife_education  Husband_education  No_of_children_born  \\\n",
       "0      24.0               1                  2                  3.0   \n",
       "1      45.0               0                  2                 10.0   \n",
       "2      43.0               1                  2                  7.0   \n",
       "3      42.0               2                  1                  9.0   \n",
       "4      36.0               2                  2                  8.0   \n",
       "\n",
       "   Wife_religion  Wife_Working  Husband_Occupation  Standard_of_living_index  \\\n",
       "0              0             1                   1                         3   \n",
       "1              0             1                   2                         2   \n",
       "2              0             1                   2                         2   \n",
       "3              0             1                   2                         3   \n",
       "4              0             1                   2                         1   \n",
       "\n",
       "   Media_exposure  \n",
       "0               0  \n",
       "1               0  \n",
       "2               0  \n",
       "3               0  \n",
       "4               0  "
      ]
     },
     "execution_count": 93,
     "metadata": {},
     "output_type": "execute_result"
    }
   ],
   "source": [
    "X1.head()"
   ]
  },
  {
   "cell_type": "code",
   "execution_count": 94,
   "id": "f09fd0eb",
   "metadata": {},
   "outputs": [],
   "source": [
    "x_train,x_test,train_labels,test_labels=train_test_split(X1,Y1,test_size=0.30,random_state=1)"
   ]
  },
  {
   "cell_type": "code",
   "execution_count": 95,
   "id": "3eff276d",
   "metadata": {},
   "outputs": [],
   "source": [
    "from sklearn.tree import DecisionTreeClassifier"
   ]
  },
  {
   "cell_type": "code",
   "execution_count": 96,
   "id": "481f7914",
   "metadata": {},
   "outputs": [],
   "source": [
    "dt_model=DecisionTreeClassifier(criterion='gini',random_state=1)"
   ]
  },
  {
   "cell_type": "code",
   "execution_count": 97,
   "id": "0eb3a971",
   "metadata": {},
   "outputs": [
    {
     "data": {
      "text/plain": [
       "DecisionTreeClassifier(random_state=1)"
      ]
     },
     "execution_count": 97,
     "metadata": {},
     "output_type": "execute_result"
    }
   ],
   "source": [
    "dt_model.fit(x_train,train_labels)"
   ]
  },
  {
   "cell_type": "code",
   "execution_count": 98,
   "id": "d17f11be",
   "metadata": {},
   "outputs": [
    {
     "data": {
      "text/plain": [
       "array([0.29445203, 0.13181817, 0.08259402, 0.23960701, 0.03264596,\n",
       "       0.04753543, 0.07626761, 0.08427562, 0.01080415])"
      ]
     },
     "execution_count": 98,
     "metadata": {},
     "output_type": "execute_result"
    }
   ],
   "source": [
    "dt_model.feature_importances_"
   ]
  },
  {
   "cell_type": "code",
   "execution_count": 99,
   "id": "78ea3904",
   "metadata": {},
   "outputs": [
    {
     "name": "stdout",
     "output_type": "stream",
     "text": [
      "                               Imp\n",
      "Wife_age                  0.294452\n",
      "Wife_education            0.131818\n",
      "Husband_education         0.082594\n",
      "No_of_children_born       0.239607\n",
      "Wife_religion             0.032646\n",
      "Wife_Working              0.047535\n",
      "Husband_Occupation        0.076268\n",
      "Standard_of_living_index  0.084276\n",
      "Media_exposure            0.010804\n"
     ]
    }
   ],
   "source": [
    "print(pd.DataFrame(dt_model.feature_importances_,columns=['Imp'],index=x_train.columns))"
   ]
  },
  {
   "cell_type": "code",
   "execution_count": 100,
   "id": "b7cc52c3",
   "metadata": {},
   "outputs": [],
   "source": [
    "from sklearn import tree\n",
    "\n",
    "train_char_label = ['No', 'Yes']\n",
    "ld_Tree_File = open('d:ld_Tree_File.dot','w')\n",
    "dot_data = tree.export_graphviz(dt_model, \n",
    "                                out_file=ld_Tree_File, \n",
    "                                feature_names = list(x_train), \n",
    "                                class_names = list(train_char_label))\n",
    "\n",
    "ld_Tree_File.close()"
   ]
  },
  {
   "cell_type": "markdown",
   "id": "dacd1c11",
   "metadata": {},
   "source": [
    "# Lets Regularized "
   ]
  },
  {
   "cell_type": "code",
   "execution_count": 101,
   "id": "d53644dc",
   "metadata": {},
   "outputs": [],
   "source": [
    "reg_dt_model=DecisionTreeClassifier(criterion='gini',random_state=1,max_depth=5)"
   ]
  },
  {
   "cell_type": "code",
   "execution_count": 102,
   "id": "903ff692",
   "metadata": {},
   "outputs": [
    {
     "data": {
      "text/plain": [
       "DecisionTreeClassifier(max_depth=5, random_state=1)"
      ]
     },
     "execution_count": 102,
     "metadata": {},
     "output_type": "execute_result"
    }
   ],
   "source": [
    "reg_dt_model.fit(x_train,train_labels)"
   ]
  },
  {
   "cell_type": "code",
   "execution_count": 103,
   "id": "9a21206e",
   "metadata": {},
   "outputs": [
    {
     "data": {
      "text/plain": [
       "array([0.31504567, 0.1433646 , 0.05035562, 0.46697825, 0.01364011,\n",
       "       0.        , 0.00789008, 0.00272566, 0.        ])"
      ]
     },
     "execution_count": 103,
     "metadata": {},
     "output_type": "execute_result"
    }
   ],
   "source": [
    "reg_dt_model.feature_importances_"
   ]
  },
  {
   "cell_type": "code",
   "execution_count": 104,
   "id": "33b75956",
   "metadata": {},
   "outputs": [
    {
     "name": "stdout",
     "output_type": "stream",
     "text": [
      "                               Imp\n",
      "No_of_children_born       0.466978\n",
      "Wife_age                  0.315046\n",
      "Wife_education            0.143365\n",
      "Husband_education         0.050356\n",
      "Wife_religion             0.013640\n",
      "Husband_Occupation        0.007890\n",
      "Standard_of_living_index  0.002726\n",
      "Wife_Working              0.000000\n",
      "Media_exposure            0.000000\n"
     ]
    }
   ],
   "source": [
    "print(pd.DataFrame(reg_dt_model.feature_importances_,columns=['Imp'],index=x_train.columns).sort_values('Imp',ascending=False))"
   ]
  },
  {
   "cell_type": "code",
   "execution_count": 105,
   "id": "7ea562f6",
   "metadata": {},
   "outputs": [],
   "source": [
    "ytrain_predict=reg_dt_model.predict(x_train)\n",
    "ytest_predict=reg_dt_model.predict(x_test)"
   ]
  },
  {
   "cell_type": "markdown",
   "id": "84255968",
   "metadata": {},
   "source": [
    "# Getting the Predicted Classes"
   ]
  },
  {
   "cell_type": "code",
   "execution_count": 106,
   "id": "6af594fe",
   "metadata": {},
   "outputs": [
    {
     "data": {
      "text/plain": [
       "array([0, 0, 0, 0, 1, 1, 0, 0, 0, 1, 0, 0, 0, 1, 0, 1, 0, 0, 1, 0, 0, 1,\n",
       "       0, 0, 0, 1, 0, 0, 1, 0, 0, 0, 0, 0, 0, 0, 0, 1, 0, 0, 0, 0, 0, 0,\n",
       "       1, 0, 0, 0, 1, 1, 0, 0, 0, 0, 1, 0, 1, 0, 1, 0, 1, 0, 0, 0, 1, 0,\n",
       "       1, 1, 0, 1, 0, 0, 0, 0, 0, 0, 0, 0, 0, 0, 1, 1, 0, 1, 0, 0, 0, 0,\n",
       "       0, 0, 0, 0, 1, 0, 0, 1, 1, 0, 0, 0, 0, 0, 0, 1, 0, 0, 0, 0, 1, 0,\n",
       "       0, 0, 0, 1, 0, 0, 0, 0, 1, 1, 0, 0, 0, 0, 0, 0, 1, 0, 0, 0, 0, 1,\n",
       "       1, 0, 0, 1, 0, 1, 0, 0, 0, 0, 0, 1, 1, 0, 1, 0, 1, 0, 0, 1, 1, 0,\n",
       "       0, 0, 0, 0, 0, 0, 1, 0, 1, 0, 1, 1, 0, 0, 1, 0, 1, 0, 0, 0, 0, 1,\n",
       "       0, 0, 1, 1, 0, 0, 0, 0, 1, 0, 0, 0, 1, 0, 0, 1, 0, 0, 0, 0, 1, 0,\n",
       "       1, 0, 0, 0, 0, 0, 0, 0, 0, 1, 0, 0, 0, 1, 0, 1, 0, 0, 0, 0, 0, 1,\n",
       "       0, 1, 0, 0, 1, 0, 0, 0, 1, 1, 1, 0, 0, 0, 0, 1, 1, 0, 1, 1, 0, 0,\n",
       "       0, 0, 0, 1, 1, 0, 0, 1, 0, 0, 1, 1, 0, 1, 0, 1, 0, 0, 0, 0, 0, 0,\n",
       "       0, 0, 1, 1, 0, 0, 1, 0, 0, 0, 0, 0, 1, 1, 0, 0, 0, 1, 0, 0, 1, 1,\n",
       "       1, 0, 0, 0, 0, 1, 0, 1, 1, 1, 0, 0, 1, 1, 1, 0, 0, 0, 0, 0, 0, 0,\n",
       "       1, 0, 1, 0, 1, 0, 1, 1, 0, 0, 0, 1, 0, 1, 1, 1, 0, 0, 0, 0, 0, 0,\n",
       "       0, 0, 0, 0, 1, 0, 0, 1, 0, 1, 0, 0, 0, 1, 0, 0, 0, 0, 1, 0, 0, 1,\n",
       "       1, 0, 0, 1, 0, 0, 0, 0, 0, 0, 1, 0, 1, 1, 0, 0, 0, 1, 0, 0, 0, 0,\n",
       "       0, 1, 0, 0, 0, 1, 0, 1, 1, 0, 0, 0, 0, 1, 1, 0, 0, 1], dtype=int8)"
      ]
     },
     "execution_count": 106,
     "metadata": {},
     "output_type": "execute_result"
    }
   ],
   "source": [
    "ytest_predict"
   ]
  },
  {
   "cell_type": "markdown",
   "id": "1293e258",
   "metadata": {},
   "source": [
    "# Getting the Predicted Probabilities"
   ]
  },
  {
   "cell_type": "code",
   "execution_count": 107,
   "id": "df5e1f5e",
   "metadata": {},
   "outputs": [
    {
     "data": {
      "text/plain": [
       "array([[0.83251232, 0.16748768],\n",
       "       [0.83251232, 0.16748768],\n",
       "       [0.66847826, 0.33152174],\n",
       "       [0.66847826, 0.33152174],\n",
       "       [0.15384615, 0.84615385],\n",
       "       [0.        , 1.        ],\n",
       "       [0.62068966, 0.37931034],\n",
       "       [0.66847826, 0.33152174],\n",
       "       [0.83251232, 0.16748768],\n",
       "       [0.23809524, 0.76190476],\n",
       "       [0.69827586, 0.30172414],\n",
       "       [0.69827586, 0.30172414],\n",
       "       [0.69827586, 0.30172414],\n",
       "       [0.48717949, 0.51282051],\n",
       "       [0.64285714, 0.35714286],\n",
       "       [0.23809524, 0.76190476],\n",
       "       [0.66847826, 0.33152174],\n",
       "       [0.69827586, 0.30172414],\n",
       "       [0.4375    , 0.5625    ],\n",
       "       [0.66847826, 0.33152174],\n",
       "       [0.62068966, 0.37931034],\n",
       "       [0.        , 1.        ],\n",
       "       [0.66847826, 0.33152174],\n",
       "       [0.66847826, 0.33152174],\n",
       "       [0.83251232, 0.16748768],\n",
       "       [0.23809524, 0.76190476],\n",
       "       [0.83251232, 0.16748768],\n",
       "       [0.83251232, 0.16748768],\n",
       "       [0.16326531, 0.83673469],\n",
       "       [0.83251232, 0.16748768],\n",
       "       [0.66847826, 0.33152174],\n",
       "       [0.66847826, 0.33152174],\n",
       "       [0.83251232, 0.16748768],\n",
       "       [0.69827586, 0.30172414],\n",
       "       [0.62068966, 0.37931034],\n",
       "       [0.66847826, 0.33152174],\n",
       "       [0.83251232, 0.16748768],\n",
       "       [0.48717949, 0.51282051],\n",
       "       [0.69827586, 0.30172414],\n",
       "       [0.83251232, 0.16748768],\n",
       "       [0.62068966, 0.37931034],\n",
       "       [0.69827586, 0.30172414],\n",
       "       [0.69827586, 0.30172414],\n",
       "       [0.66847826, 0.33152174],\n",
       "       [0.16326531, 0.83673469],\n",
       "       [0.62068966, 0.37931034],\n",
       "       [0.83251232, 0.16748768],\n",
       "       [0.83251232, 0.16748768],\n",
       "       [0.23809524, 0.76190476],\n",
       "       [0.        , 1.        ],\n",
       "       [0.62068966, 0.37931034],\n",
       "       [0.62068966, 0.37931034],\n",
       "       [0.83251232, 0.16748768],\n",
       "       [0.69827586, 0.30172414],\n",
       "       [0.23809524, 0.76190476],\n",
       "       [0.66847826, 0.33152174],\n",
       "       [0.16326531, 0.83673469],\n",
       "       [0.83251232, 0.16748768],\n",
       "       [0.23809524, 0.76190476],\n",
       "       [0.83251232, 0.16748768],\n",
       "       [0.        , 1.        ],\n",
       "       [0.83251232, 0.16748768],\n",
       "       [0.83251232, 0.16748768],\n",
       "       [0.66847826, 0.33152174],\n",
       "       [0.        , 1.        ],\n",
       "       [0.66847826, 0.33152174],\n",
       "       [0.        , 1.        ],\n",
       "       [0.        , 1.        ],\n",
       "       [0.66847826, 0.33152174],\n",
       "       [0.        , 1.        ],\n",
       "       [0.64285714, 0.35714286],\n",
       "       [0.66847826, 0.33152174],\n",
       "       [0.64285714, 0.35714286],\n",
       "       [0.83251232, 0.16748768],\n",
       "       [0.66847826, 0.33152174],\n",
       "       [0.69827586, 0.30172414],\n",
       "       [0.66847826, 0.33152174],\n",
       "       [0.64285714, 0.35714286],\n",
       "       [0.69827586, 0.30172414],\n",
       "       [0.83251232, 0.16748768],\n",
       "       [0.48717949, 0.51282051],\n",
       "       [0.        , 1.        ],\n",
       "       [0.83251232, 0.16748768],\n",
       "       [0.48717949, 0.51282051],\n",
       "       [0.69827586, 0.30172414],\n",
       "       [0.69827586, 0.30172414],\n",
       "       [0.66847826, 0.33152174],\n",
       "       [0.66847826, 0.33152174],\n",
       "       [0.64285714, 0.35714286],\n",
       "       [0.83251232, 0.16748768],\n",
       "       [0.64285714, 0.35714286],\n",
       "       [0.66847826, 0.33152174],\n",
       "       [0.        , 1.        ],\n",
       "       [0.83251232, 0.16748768],\n",
       "       [1.        , 0.        ],\n",
       "       [0.        , 1.        ],\n",
       "       [0.        , 1.        ],\n",
       "       [0.69827586, 0.30172414],\n",
       "       [0.62068966, 0.37931034],\n",
       "       [0.69827586, 0.30172414],\n",
       "       [0.66847826, 0.33152174],\n",
       "       [0.69827586, 0.30172414],\n",
       "       [0.66847826, 0.33152174],\n",
       "       [0.4375    , 0.5625    ],\n",
       "       [0.69827586, 0.30172414],\n",
       "       [0.69827586, 0.30172414],\n",
       "       [0.69827586, 0.30172414],\n",
       "       [0.62068966, 0.37931034],\n",
       "       [0.4375    , 0.5625    ],\n",
       "       [0.69827586, 0.30172414],\n",
       "       [0.69827586, 0.30172414],\n",
       "       [0.83251232, 0.16748768],\n",
       "       [0.66847826, 0.33152174],\n",
       "       [0.48717949, 0.51282051],\n",
       "       [0.69827586, 0.30172414],\n",
       "       [0.83251232, 0.16748768],\n",
       "       [0.5       , 0.5       ],\n",
       "       [0.66847826, 0.33152174],\n",
       "       [0.        , 1.        ],\n",
       "       [0.        , 1.        ],\n",
       "       [0.66847826, 0.33152174],\n",
       "       [0.64285714, 0.35714286],\n",
       "       [0.69827586, 0.30172414],\n",
       "       [0.83251232, 0.16748768],\n",
       "       [0.62068966, 0.37931034],\n",
       "       [0.66847826, 0.33152174],\n",
       "       [0.15384615, 0.84615385],\n",
       "       [0.83251232, 0.16748768],\n",
       "       [0.69827586, 0.30172414],\n",
       "       [0.83251232, 0.16748768],\n",
       "       [0.66847826, 0.33152174],\n",
       "       [0.48717949, 0.51282051],\n",
       "       [0.        , 1.        ],\n",
       "       [0.69827586, 0.30172414],\n",
       "       [0.69827586, 0.30172414],\n",
       "       [0.48717949, 0.51282051],\n",
       "       [0.62068966, 0.37931034],\n",
       "       [0.15384615, 0.84615385],\n",
       "       [0.64285714, 0.35714286],\n",
       "       [0.83251232, 0.16748768],\n",
       "       [0.66847826, 0.33152174],\n",
       "       [0.66847826, 0.33152174],\n",
       "       [0.83251232, 0.16748768],\n",
       "       [0.40909091, 0.59090909],\n",
       "       [0.23809524, 0.76190476],\n",
       "       [0.69827586, 0.30172414],\n",
       "       [0.4375    , 0.5625    ],\n",
       "       [0.62068966, 0.37931034],\n",
       "       [0.48717949, 0.51282051],\n",
       "       [0.66847826, 0.33152174],\n",
       "       [0.83251232, 0.16748768],\n",
       "       [0.16326531, 0.83673469],\n",
       "       [0.23809524, 0.76190476],\n",
       "       [0.83251232, 0.16748768],\n",
       "       [0.62068966, 0.37931034],\n",
       "       [0.69827586, 0.30172414],\n",
       "       [0.66847826, 0.33152174],\n",
       "       [0.83251232, 0.16748768],\n",
       "       [0.64285714, 0.35714286],\n",
       "       [0.64285714, 0.35714286],\n",
       "       [0.16326531, 0.83673469],\n",
       "       [0.66847826, 0.33152174],\n",
       "       [0.16326531, 0.83673469],\n",
       "       [0.69827586, 0.30172414],\n",
       "       [0.48717949, 0.51282051],\n",
       "       [0.        , 1.        ],\n",
       "       [0.69827586, 0.30172414],\n",
       "       [0.66847826, 0.33152174],\n",
       "       [0.16326531, 0.83673469],\n",
       "       [0.66847826, 0.33152174],\n",
       "       [0.        , 1.        ],\n",
       "       [0.66847826, 0.33152174],\n",
       "       [0.66847826, 0.33152174],\n",
       "       [0.69827586, 0.30172414],\n",
       "       [0.66847826, 0.33152174],\n",
       "       [0.48717949, 0.51282051],\n",
       "       [0.66847826, 0.33152174],\n",
       "       [0.66847826, 0.33152174],\n",
       "       [0.        , 1.        ],\n",
       "       [0.        , 1.        ],\n",
       "       [0.83251232, 0.16748768],\n",
       "       [0.83251232, 0.16748768],\n",
       "       [0.83251232, 0.16748768],\n",
       "       [0.66847826, 0.33152174],\n",
       "       [0.48717949, 0.51282051],\n",
       "       [0.69827586, 0.30172414],\n",
       "       [0.66847826, 0.33152174],\n",
       "       [0.64285714, 0.35714286],\n",
       "       [0.23809524, 0.76190476],\n",
       "       [0.83251232, 0.16748768],\n",
       "       [0.62068966, 0.37931034],\n",
       "       [0.        , 1.        ],\n",
       "       [0.83251232, 0.16748768],\n",
       "       [0.64285714, 0.35714286],\n",
       "       [0.69827586, 0.30172414],\n",
       "       [0.66847826, 0.33152174],\n",
       "       [0.15384615, 0.84615385],\n",
       "       [0.69827586, 0.30172414],\n",
       "       [0.23809524, 0.76190476],\n",
       "       [0.66847826, 0.33152174],\n",
       "       [0.83251232, 0.16748768],\n",
       "       [0.83251232, 0.16748768],\n",
       "       [0.83251232, 0.16748768],\n",
       "       [0.83251232, 0.16748768],\n",
       "       [0.66847826, 0.33152174],\n",
       "       [0.66847826, 0.33152174],\n",
       "       [0.83251232, 0.16748768],\n",
       "       [0.40909091, 0.59090909],\n",
       "       [0.83251232, 0.16748768],\n",
       "       [0.83251232, 0.16748768],\n",
       "       [0.66847826, 0.33152174],\n",
       "       [0.23809524, 0.76190476],\n",
       "       [1.        , 0.        ],\n",
       "       [0.40909091, 0.59090909],\n",
       "       [0.69827586, 0.30172414],\n",
       "       [0.66847826, 0.33152174],\n",
       "       [0.83251232, 0.16748768],\n",
       "       [0.83251232, 0.16748768],\n",
       "       [0.64285714, 0.35714286],\n",
       "       [0.        , 1.        ],\n",
       "       [0.66847826, 0.33152174],\n",
       "       [0.        , 1.        ],\n",
       "       [0.69827586, 0.30172414],\n",
       "       [0.62068966, 0.37931034],\n",
       "       [0.16326531, 0.83673469],\n",
       "       [0.69827586, 0.30172414],\n",
       "       [0.83251232, 0.16748768],\n",
       "       [0.83251232, 0.16748768],\n",
       "       [0.23809524, 0.76190476],\n",
       "       [0.        , 1.        ],\n",
       "       [0.        , 1.        ],\n",
       "       [0.66847826, 0.33152174],\n",
       "       [0.83251232, 0.16748768],\n",
       "       [0.66847826, 0.33152174],\n",
       "       [0.64285714, 0.35714286],\n",
       "       [0.16326531, 0.83673469],\n",
       "       [0.23809524, 0.76190476],\n",
       "       [0.83251232, 0.16748768],\n",
       "       [0.4375    , 0.5625    ],\n",
       "       [0.16326531, 0.83673469],\n",
       "       [0.83251232, 0.16748768],\n",
       "       [0.64285714, 0.35714286],\n",
       "       [0.69827586, 0.30172414],\n",
       "       [0.66847826, 0.33152174],\n",
       "       [0.83251232, 0.16748768],\n",
       "       [0.16326531, 0.83673469],\n",
       "       [0.48717949, 0.51282051],\n",
       "       [1.        , 0.        ],\n",
       "       [0.69827586, 0.30172414],\n",
       "       [0.16326531, 0.83673469],\n",
       "       [0.83251232, 0.16748768],\n",
       "       [0.66847826, 0.33152174],\n",
       "       [0.15384615, 0.84615385],\n",
       "       [0.48717949, 0.51282051],\n",
       "       [0.69827586, 0.30172414],\n",
       "       [0.23809524, 0.76190476],\n",
       "       [0.66847826, 0.33152174],\n",
       "       [0.        , 1.        ],\n",
       "       [0.62068966, 0.37931034],\n",
       "       [0.83251232, 0.16748768],\n",
       "       [0.62068966, 0.37931034],\n",
       "       [0.83251232, 0.16748768],\n",
       "       [0.69827586, 0.30172414],\n",
       "       [0.66847826, 0.33152174],\n",
       "       [0.62068966, 0.37931034],\n",
       "       [0.66847826, 0.33152174],\n",
       "       [0.        , 1.        ],\n",
       "       [0.23809524, 0.76190476],\n",
       "       [0.83251232, 0.16748768],\n",
       "       [0.83251232, 0.16748768],\n",
       "       [0.48717949, 0.51282051],\n",
       "       [1.        , 0.        ],\n",
       "       [0.62068966, 0.37931034],\n",
       "       [0.83251232, 0.16748768],\n",
       "       [0.83251232, 0.16748768],\n",
       "       [0.66847826, 0.33152174],\n",
       "       [0.48717949, 0.51282051],\n",
       "       [0.4375    , 0.5625    ],\n",
       "       [0.62068966, 0.37931034],\n",
       "       [0.83251232, 0.16748768],\n",
       "       [0.64285714, 0.35714286],\n",
       "       [0.23809524, 0.76190476],\n",
       "       [0.62068966, 0.37931034],\n",
       "       [0.66847826, 0.33152174],\n",
       "       [0.16326531, 0.83673469],\n",
       "       [0.        , 1.        ],\n",
       "       [0.        , 1.        ],\n",
       "       [0.69827586, 0.30172414],\n",
       "       [0.66847826, 0.33152174],\n",
       "       [0.66847826, 0.33152174],\n",
       "       [0.83251232, 0.16748768],\n",
       "       [0.48717949, 0.51282051],\n",
       "       [0.66847826, 0.33152174],\n",
       "       [0.16326531, 0.83673469],\n",
       "       [0.23809524, 0.76190476],\n",
       "       [0.        , 1.        ],\n",
       "       [0.64285714, 0.35714286],\n",
       "       [0.64285714, 0.35714286],\n",
       "       [0.4375    , 0.5625    ],\n",
       "       [0.16326531, 0.83673469],\n",
       "       [0.16326531, 0.83673469],\n",
       "       [0.83251232, 0.16748768],\n",
       "       [0.83251232, 0.16748768],\n",
       "       [0.64285714, 0.35714286],\n",
       "       [0.66847826, 0.33152174],\n",
       "       [0.64285714, 0.35714286],\n",
       "       [0.83251232, 0.16748768],\n",
       "       [0.64285714, 0.35714286],\n",
       "       [0.16326531, 0.83673469],\n",
       "       [0.66847826, 0.33152174],\n",
       "       [0.        , 1.        ],\n",
       "       [0.83251232, 0.16748768],\n",
       "       [0.16326531, 0.83673469],\n",
       "       [0.83251232, 0.16748768],\n",
       "       [0.        , 1.        ],\n",
       "       [0.        , 1.        ],\n",
       "       [0.69827586, 0.30172414],\n",
       "       [0.66847826, 0.33152174],\n",
       "       [0.83251232, 0.16748768],\n",
       "       [0.23809524, 0.76190476],\n",
       "       [0.62068966, 0.37931034],\n",
       "       [0.16326531, 0.83673469],\n",
       "       [0.23809524, 0.76190476],\n",
       "       [0.23809524, 0.76190476],\n",
       "       [0.83251232, 0.16748768],\n",
       "       [0.83251232, 0.16748768],\n",
       "       [0.62068966, 0.37931034],\n",
       "       [0.83251232, 0.16748768],\n",
       "       [0.83251232, 0.16748768],\n",
       "       [0.69827586, 0.30172414],\n",
       "       [0.66847826, 0.33152174],\n",
       "       [0.69827586, 0.30172414],\n",
       "       [0.83251232, 0.16748768],\n",
       "       [0.66847826, 0.33152174],\n",
       "       [0.48717949, 0.51282051],\n",
       "       [0.66847826, 0.33152174],\n",
       "       [0.83251232, 0.16748768],\n",
       "       [0.4375    , 0.5625    ],\n",
       "       [0.62068966, 0.37931034],\n",
       "       [0.4375    , 0.5625    ],\n",
       "       [0.83251232, 0.16748768],\n",
       "       [0.83251232, 0.16748768],\n",
       "       [0.62068966, 0.37931034],\n",
       "       [0.40909091, 0.59090909],\n",
       "       [0.83251232, 0.16748768],\n",
       "       [0.83251232, 0.16748768],\n",
       "       [0.69827586, 0.30172414],\n",
       "       [0.83251232, 0.16748768],\n",
       "       [0.48717949, 0.51282051],\n",
       "       [0.83251232, 0.16748768],\n",
       "       [0.64285714, 0.35714286],\n",
       "       [0.        , 1.        ],\n",
       "       [0.48717949, 0.51282051],\n",
       "       [0.83251232, 0.16748768],\n",
       "       [0.62068966, 0.37931034],\n",
       "       [0.48717949, 0.51282051],\n",
       "       [0.66847826, 0.33152174],\n",
       "       [0.62068966, 0.37931034],\n",
       "       [0.83251232, 0.16748768],\n",
       "       [0.66847826, 0.33152174],\n",
       "       [0.69827586, 0.30172414],\n",
       "       [0.83251232, 0.16748768],\n",
       "       [0.48717949, 0.51282051],\n",
       "       [0.64285714, 0.35714286],\n",
       "       [0.48717949, 0.51282051],\n",
       "       [0.        , 1.        ],\n",
       "       [0.83251232, 0.16748768],\n",
       "       [0.66847826, 0.33152174],\n",
       "       [0.83251232, 0.16748768],\n",
       "       [0.16326531, 0.83673469],\n",
       "       [0.62068966, 0.37931034],\n",
       "       [0.66847826, 0.33152174],\n",
       "       [0.69827586, 0.30172414],\n",
       "       [0.66847826, 0.33152174],\n",
       "       [0.66847826, 0.33152174],\n",
       "       [0.23809524, 0.76190476],\n",
       "       [0.83251232, 0.16748768],\n",
       "       [0.69827586, 0.30172414],\n",
       "       [0.66847826, 0.33152174],\n",
       "       [0.4375    , 0.5625    ],\n",
       "       [0.64285714, 0.35714286],\n",
       "       [0.        , 1.        ],\n",
       "       [0.        , 1.        ],\n",
       "       [0.64285714, 0.35714286],\n",
       "       [0.66847826, 0.33152174],\n",
       "       [0.64285714, 0.35714286],\n",
       "       [0.83251232, 0.16748768],\n",
       "       [0.48717949, 0.51282051],\n",
       "       [0.        , 1.        ],\n",
       "       [0.62068966, 0.37931034],\n",
       "       [0.69827586, 0.30172414],\n",
       "       [0.16326531, 0.83673469]])"
      ]
     },
     "execution_count": 107,
     "metadata": {},
     "output_type": "execute_result"
    }
   ],
   "source": [
    "ytest_predict_prob=reg_dt_model.predict_proba(x_test)\n",
    "ytest_predict_prob"
   ]
  },
  {
   "cell_type": "code",
   "execution_count": 108,
   "id": "98c1ddf6",
   "metadata": {},
   "outputs": [
    {
     "data": {
      "text/html": [
       "<div>\n",
       "<style scoped>\n",
       "    .dataframe tbody tr th:only-of-type {\n",
       "        vertical-align: middle;\n",
       "    }\n",
       "\n",
       "    .dataframe tbody tr th {\n",
       "        vertical-align: top;\n",
       "    }\n",
       "\n",
       "    .dataframe thead th {\n",
       "        text-align: right;\n",
       "    }\n",
       "</style>\n",
       "<table border=\"1\" class=\"dataframe\">\n",
       "  <thead>\n",
       "    <tr style=\"text-align: right;\">\n",
       "      <th></th>\n",
       "      <th>0</th>\n",
       "      <th>1</th>\n",
       "    </tr>\n",
       "  </thead>\n",
       "  <tbody>\n",
       "    <tr>\n",
       "      <th>0</th>\n",
       "      <td>0.832512</td>\n",
       "      <td>0.167488</td>\n",
       "    </tr>\n",
       "    <tr>\n",
       "      <th>1</th>\n",
       "      <td>0.832512</td>\n",
       "      <td>0.167488</td>\n",
       "    </tr>\n",
       "    <tr>\n",
       "      <th>2</th>\n",
       "      <td>0.668478</td>\n",
       "      <td>0.331522</td>\n",
       "    </tr>\n",
       "    <tr>\n",
       "      <th>3</th>\n",
       "      <td>0.668478</td>\n",
       "      <td>0.331522</td>\n",
       "    </tr>\n",
       "    <tr>\n",
       "      <th>4</th>\n",
       "      <td>0.153846</td>\n",
       "      <td>0.846154</td>\n",
       "    </tr>\n",
       "  </tbody>\n",
       "</table>\n",
       "</div>"
      ],
      "text/plain": [
       "          0         1\n",
       "0  0.832512  0.167488\n",
       "1  0.832512  0.167488\n",
       "2  0.668478  0.331522\n",
       "3  0.668478  0.331522\n",
       "4  0.153846  0.846154"
      ]
     },
     "execution_count": 108,
     "metadata": {},
     "output_type": "execute_result"
    }
   ],
   "source": [
    "pd.DataFrame(ytest_predict_prob).head()"
   ]
  },
  {
   "cell_type": "code",
   "execution_count": 109,
   "id": "19fb9a48",
   "metadata": {},
   "outputs": [
    {
     "data": {
      "text/plain": [
       "0.7352297592997812"
      ]
     },
     "execution_count": 109,
     "metadata": {},
     "output_type": "execute_result"
    }
   ],
   "source": [
    "reg_dt_model.score(x_train,train_labels)"
   ]
  },
  {
   "cell_type": "code",
   "execution_count": 110,
   "id": "776ddb99",
   "metadata": {},
   "outputs": [
    {
     "data": {
      "text/plain": [
       "0.6530612244897959"
      ]
     },
     "execution_count": 110,
     "metadata": {},
     "output_type": "execute_result"
    }
   ],
   "source": [
    "reg_dt_model.score(x_test,test_labels)"
   ]
  },
  {
   "cell_type": "code",
   "execution_count": 111,
   "id": "01f50697",
   "metadata": {},
   "outputs": [],
   "source": [
    "from sklearn.metrics import roc_auc_score,roc_curve"
   ]
  },
  {
   "cell_type": "code",
   "execution_count": 112,
   "id": "1b491636",
   "metadata": {},
   "outputs": [],
   "source": [
    "probs=reg_dt_model.predict_proba(x_train)"
   ]
  },
  {
   "cell_type": "code",
   "execution_count": 113,
   "id": "f6b17ac2",
   "metadata": {},
   "outputs": [],
   "source": [
    "probs=probs[:,1]"
   ]
  },
  {
   "cell_type": "code",
   "execution_count": 114,
   "id": "af991989",
   "metadata": {},
   "outputs": [
    {
     "data": {
      "text/plain": [
       "0.7781207216600324"
      ]
     },
     "execution_count": 114,
     "metadata": {},
     "output_type": "execute_result"
    }
   ],
   "source": [
    "auc=roc_auc_score(train_labels,probs)\n",
    "auc"
   ]
  },
  {
   "cell_type": "code",
   "execution_count": 115,
   "id": "7c58c143",
   "metadata": {},
   "outputs": [],
   "source": [
    "fpr,tpr,thresholds=roc_curve(train_labels,probs)"
   ]
  },
  {
   "cell_type": "code",
   "execution_count": 116,
   "id": "9f5df552",
   "metadata": {},
   "outputs": [
    {
     "data": {
      "image/png": "[encoded data removed]",
      "text/plain": [
       "<Figure size 432x288 with 1 Axes>"
      ]
     },
     "metadata": {},
     "output_type": "display_data"
    }
   ],
   "source": [
    "plt.plot([0,1],[0,1],linestyle='--')\n",
    "plt.plot(fpr,tpr,marker='.')\n",
    "plt.xlabel('False Positive Rate')\n",
    "plt.ylabel('True positive Rate')\n",
    "plt.show()"
   ]
  },
  {
   "cell_type": "code",
   "execution_count": 117,
   "id": "eab808e6",
   "metadata": {},
   "outputs": [],
   "source": [
    "probs1=reg_dt_model.predict_proba(x_test)\n",
    "probs1=probs1[:,1]"
   ]
  },
  {
   "cell_type": "code",
   "execution_count": 118,
   "id": "fd6064b2",
   "metadata": {},
   "outputs": [],
   "source": [
    "auc=roc_auc_score(test_labels,probs1)"
   ]
  },
  {
   "cell_type": "code",
   "execution_count": 119,
   "id": "64371ec3",
   "metadata": {},
   "outputs": [
    {
     "data": {
      "text/plain": [
       "0.6777931106308746"
      ]
     },
     "execution_count": 119,
     "metadata": {},
     "output_type": "execute_result"
    }
   ],
   "source": [
    "auc"
   ]
  },
  {
   "cell_type": "code",
   "execution_count": 120,
   "id": "b8a07d3a",
   "metadata": {},
   "outputs": [],
   "source": [
    "fpr1, tpr1, thresholds1=roc_curve(test_labels,probs1)"
   ]
  },
  {
   "cell_type": "code",
   "execution_count": 121,
   "id": "f2634104",
   "metadata": {},
   "outputs": [
    {
     "data": {
      "image/png": "[encoded data removed]",
      "text/plain": [
       "<Figure size 432x288 with 1 Axes>"
      ]
     },
     "metadata": {},
     "output_type": "display_data"
    }
   ],
   "source": [
    "plt.plot([0,1],[0,1],linestyle='--')\n",
    "plt.plot(fpr1, tpr1, marker='.')\n",
    "plt.xlabel('False Positive Rate')\n",
    "plt.ylabel('True Positive Rate')\n",
    "plt.show()"
   ]
  },
  {
   "cell_type": "code",
   "execution_count": 122,
   "id": "ec7c588c",
   "metadata": {},
   "outputs": [
    {
     "name": "stdout",
     "output_type": "stream",
     "text": [
      "              precision    recall  f1-score   support\n",
      "\n",
      "           0       0.72      0.87      0.79       517\n",
      "           1       0.76      0.56      0.65       397\n",
      "\n",
      "    accuracy                           0.74       914\n",
      "   macro avg       0.74      0.72      0.72       914\n",
      "weighted avg       0.74      0.74      0.73       914\n",
      "\n"
     ]
    }
   ],
   "source": [
    "print(classification_report(train_labels,ytrain_predict))"
   ]
  },
  {
   "cell_type": "code",
   "execution_count": 123,
   "id": "898d9e6c",
   "metadata": {},
   "outputs": [
    {
     "name": "stdout",
     "output_type": "stream",
     "text": [
      "              precision    recall  f1-score   support\n",
      "\n",
      "           0       0.61      0.85      0.71       193\n",
      "           1       0.76      0.46      0.58       199\n",
      "\n",
      "    accuracy                           0.65       392\n",
      "   macro avg       0.68      0.66      0.64       392\n",
      "weighted avg       0.68      0.65      0.64       392\n",
      "\n"
     ]
    }
   ],
   "source": [
    "print(classification_report(test_labels,ytest_predict))"
   ]
  },
  {
   "cell_type": "code",
   "execution_count": 124,
   "id": "24c7cb96",
   "metadata": {},
   "outputs": [
    {
     "data": {
      "text/plain": [
       "array([[416, 101],\n",
       "       [203, 194]], dtype=int64)"
      ]
     },
     "execution_count": 124,
     "metadata": {},
     "output_type": "execute_result"
    }
   ],
   "source": [
    "confusion_matrix(train_labels,y1_trainpredict)"
   ]
  },
  {
   "cell_type": "code",
   "execution_count": 125,
   "id": "ad0ecf03",
   "metadata": {},
   "outputs": [
    {
     "data": {
      "text/plain": [
       "array([[164,  29],\n",
       "       [107,  92]], dtype=int64)"
      ]
     },
     "execution_count": 125,
     "metadata": {},
     "output_type": "execute_result"
    }
   ],
   "source": [
    "confusion_matrix(test_labels,ytest_predict)"
   ]
  },
  {
   "cell_type": "code",
   "execution_count": 126,
   "id": "1aae1f9f",
   "metadata": {},
   "outputs": [
    {
     "data": {
      "text/plain": [
       "0.7352297592997812"
      ]
     },
     "execution_count": 126,
     "metadata": {},
     "output_type": "execute_result"
    }
   ],
   "source": [
    "reg_dt_model.score(x_train,train_labels)"
   ]
  },
  {
   "cell_type": "code",
   "execution_count": 127,
   "id": "622624fc",
   "metadata": {},
   "outputs": [
    {
     "data": {
      "text/plain": [
       "0.6530612244897959"
      ]
     },
     "execution_count": 127,
     "metadata": {},
     "output_type": "execute_result"
    }
   ],
   "source": [
    "reg_dt_model.score(x_test,test_labels)"
   ]
  },
  {
   "cell_type": "code",
   "execution_count": 129,
   "id": "3d1e0352",
   "metadata": {},
   "outputs": [],
   "source": [
    "probs2=y1_predictprob[:,1]\n"
   ]
  },
  {
   "cell_type": "code",
   "execution_count": 130,
   "id": "62d0bf5c",
   "metadata": {},
   "outputs": [],
   "source": [
    "auc=roc_auc_score(y1_test,probs2)"
   ]
  },
  {
   "cell_type": "code",
   "execution_count": 131,
   "id": "8a3237bc",
   "metadata": {},
   "outputs": [
    {
     "data": {
      "text/plain": [
       "0.6697216653214259"
      ]
     },
     "execution_count": 131,
     "metadata": {},
     "output_type": "execute_result"
    }
   ],
   "source": [
    "auc"
   ]
  },
  {
   "cell_type": "code",
   "execution_count": 132,
   "id": "7655be0a",
   "metadata": {},
   "outputs": [],
   "source": [
    "fpr2,tpr2,threshold2=roc_curve(y1_test,probs2)"
   ]
  },
  {
   "cell_type": "code",
   "execution_count": 133,
   "id": "6b0107d5",
   "metadata": {},
   "outputs": [
    {
     "data": {
      "image/png": "[encoded data removed]",
      "text/plain": [
       "<Figure size 432x288 with 1 Axes>"
      ]
     },
     "metadata": {},
     "output_type": "display_data"
    }
   ],
   "source": [
    "plt.plot([0,1],[0,1],linestyle='--')\n",
    "plt.plot(fpr1, tpr1,color='green', label='CArt')\n",
    "plt.plot(fpr2,tpr2,color='red', label='LoG')\n",
    "plt.xlabel('False Positive Rate')\n",
    "plt.ylabel('True Positive Rate')\n",
    "plt.title('ROC')\n",
    "plt.show()"
   ]
  },
  {
   "cell_type": "code",
   "execution_count": null,
   "id": "edcddd4d",
   "metadata": {},
   "outputs": [],
   "source": []
  },
  {
   "cell_type": "code",
   "execution_count": null,
   "id": "722b89e3",
   "metadata": {},
   "outputs": [],
   "source": [
    "fpr3,tpr3,threshold3=roc_curve"
   ]
  }
 ],
 "metadata": {
  "kernelspec": {
   "display_name": "Python 3 (ipykernel)",
   "language": "python",
   "name": "python3"
  },
  "language_info": {
   "codemirror_mode": {
    "name": "ipython",
    "version": 3
   },
   "file_extension": ".py",
   "mimetype": "text/x-python",
   "name": "python",
   "nbconvert_exporter": "python",
   "pygments_lexer": "ipython3",
   "version": "3.9.12"
  }
 },
 "nbformat": 4,
 "nbformat_minor": 5
}
